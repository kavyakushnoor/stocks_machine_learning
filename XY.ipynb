{
 "cells": [
  {
   "cell_type": "code",
   "execution_count": 48,
   "metadata": {},
   "outputs": [],
   "source": [
    "# Exp Data Analysis\n",
    "# https://towardsdatascience.com/a-machine-learning-project-predicting-used-car-prices-efbc4d2a4998#eced\n",
    "# https://likegeeks.com/python-correlation-matrix/"
   ]
  },
  {
   "cell_type": "code",
   "execution_count": 123,
   "metadata": {},
   "outputs": [],
   "source": [
    "%matplotlib inline\n",
    "\n",
    "import quandl\n",
    "import pandas as pd\n",
    "import matplotlib.pyplot as plt\n",
    "import numpy as np\n",
    "from sklearn.linear_model import LinearRegression\n",
    "from sklearn.model_selection import train_test_split\n",
    "from sklearn.ensemble import GradientBoostingRegressor\n",
    "from sklearn.ensemble import RandomForestRegressor\n",
    "from dateutil.parser import parse\n",
    "from sklearn import metrics"
   ]
  },
  {
   "cell_type": "code",
   "execution_count": 124,
   "metadata": {},
   "outputs": [
    {
     "data": {
      "text/html": [
       "<div>\n",
       "<style scoped>\n",
       "    .dataframe tbody tr th:only-of-type {\n",
       "        vertical-align: middle;\n",
       "    }\n",
       "\n",
       "    .dataframe tbody tr th {\n",
       "        vertical-align: top;\n",
       "    }\n",
       "\n",
       "    .dataframe thead th {\n",
       "        text-align: right;\n",
       "    }\n",
       "</style>\n",
       "<table border=\"1\" class=\"dataframe\">\n",
       "  <thead>\n",
       "    <tr style=\"text-align: right;\">\n",
       "      <th></th>\n",
       "      <th>AAPL</th>\n",
       "      <th>AMZN</th>\n",
       "      <th>EXC</th>\n",
       "      <th>NDAQ</th>\n",
       "      <th>RGLD</th>\n",
       "      <th>Portfolio Val</th>\n",
       "    </tr>\n",
       "    <tr>\n",
       "      <th>Date</th>\n",
       "      <th></th>\n",
       "      <th></th>\n",
       "      <th></th>\n",
       "      <th></th>\n",
       "      <th></th>\n",
       "      <th></th>\n",
       "    </tr>\n",
       "  </thead>\n",
       "  <tbody>\n",
       "    <tr>\n",
       "      <th>2015-07-01</th>\n",
       "      <td>2500.000000</td>\n",
       "      <td>2500.000000</td>\n",
       "      <td>1000.000000</td>\n",
       "      <td>3000.000000</td>\n",
       "      <td>1000.000000</td>\n",
       "      <td>10000.000000</td>\n",
       "    </tr>\n",
       "    <tr>\n",
       "      <th>2015-07-02</th>\n",
       "      <td>2496.840442</td>\n",
       "      <td>2501.829031</td>\n",
       "      <td>1010.085093</td>\n",
       "      <td>3025.867378</td>\n",
       "      <td>1020.802621</td>\n",
       "      <td>10055.424566</td>\n",
       "    </tr>\n",
       "    <tr>\n",
       "      <th>2015-07-06</th>\n",
       "      <td>2488.151659</td>\n",
       "      <td>2492.283774</td>\n",
       "      <td>1006.618342</td>\n",
       "      <td>3003.079450</td>\n",
       "      <td>1038.902539</td>\n",
       "      <td>10029.035764</td>\n",
       "    </tr>\n",
       "    <tr>\n",
       "      <th>2015-07-07</th>\n",
       "      <td>2482.030016</td>\n",
       "      <td>2496.170466</td>\n",
       "      <td>1032.776552</td>\n",
       "      <td>3008.006569</td>\n",
       "      <td>1009.500410</td>\n",
       "      <td>10028.484013</td>\n",
       "    </tr>\n",
       "    <tr>\n",
       "      <th>2015-07-08</th>\n",
       "      <td>2420.418641</td>\n",
       "      <td>2456.046092</td>\n",
       "      <td>1027.418847</td>\n",
       "      <td>2947.649353</td>\n",
       "      <td>1011.711712</td>\n",
       "      <td>9863.244645</td>\n",
       "    </tr>\n",
       "    <tr>\n",
       "      <th>...</th>\n",
       "      <td>...</td>\n",
       "      <td>...</td>\n",
       "      <td>...</td>\n",
       "      <td>...</td>\n",
       "      <td>...</td>\n",
       "      <td>...</td>\n",
       "    </tr>\n",
       "    <tr>\n",
       "      <th>2017-12-22</th>\n",
       "      <td>3608.659917</td>\n",
       "      <td>6678.021903</td>\n",
       "      <td>1340.219995</td>\n",
       "      <td>4888.929875</td>\n",
       "      <td>1467.426587</td>\n",
       "      <td>17983.258276</td>\n",
       "    </tr>\n",
       "    <tr>\n",
       "      <th>2017-12-26</th>\n",
       "      <td>3517.108291</td>\n",
       "      <td>6726.033974</td>\n",
       "      <td>1333.348834</td>\n",
       "      <td>4891.499952</td>\n",
       "      <td>1485.905041</td>\n",
       "      <td>17953.896092</td>\n",
       "    </tr>\n",
       "    <tr>\n",
       "      <th>2017-12-27</th>\n",
       "      <td>3517.726883</td>\n",
       "      <td>6757.470450</td>\n",
       "      <td>1339.532879</td>\n",
       "      <td>4904.992859</td>\n",
       "      <td>1470.308547</td>\n",
       "      <td>17990.031618</td>\n",
       "    </tr>\n",
       "    <tr>\n",
       "      <th>2017-12-28</th>\n",
       "      <td>3527.624356</td>\n",
       "      <td>6779.418825</td>\n",
       "      <td>1350.183179</td>\n",
       "      <td>4926.195998</td>\n",
       "      <td>1390.969864</td>\n",
       "      <td>17974.392222</td>\n",
       "    </tr>\n",
       "    <tr>\n",
       "      <th>2017-12-29</th>\n",
       "      <td>3489.477845</td>\n",
       "      <td>6684.366355</td>\n",
       "      <td>1353.962318</td>\n",
       "      <td>4936.476308</td>\n",
       "      <td>1392.156554</td>\n",
       "      <td>17856.439380</td>\n",
       "    </tr>\n",
       "  </tbody>\n",
       "</table>\n",
       "<p>629 rows × 6 columns</p>\n",
       "</div>"
      ],
      "text/plain": [
       "                   AAPL         AMZN          EXC         NDAQ         RGLD  \\\n",
       "Date                                                                          \n",
       "2015-07-01  2500.000000  2500.000000  1000.000000  3000.000000  1000.000000   \n",
       "2015-07-02  2496.840442  2501.829031  1010.085093  3025.867378  1020.802621   \n",
       "2015-07-06  2488.151659  2492.283774  1006.618342  3003.079450  1038.902539   \n",
       "2015-07-07  2482.030016  2496.170466  1032.776552  3008.006569  1009.500410   \n",
       "2015-07-08  2420.418641  2456.046092  1027.418847  2947.649353  1011.711712   \n",
       "...                 ...          ...          ...          ...          ...   \n",
       "2017-12-22  3608.659917  6678.021903  1340.219995  4888.929875  1467.426587   \n",
       "2017-12-26  3517.108291  6726.033974  1333.348834  4891.499952  1485.905041   \n",
       "2017-12-27  3517.726883  6757.470450  1339.532879  4904.992859  1470.308547   \n",
       "2017-12-28  3527.624356  6779.418825  1350.183179  4926.195998  1390.969864   \n",
       "2017-12-29  3489.477845  6684.366355  1353.962318  4936.476308  1392.156554   \n",
       "\n",
       "            Portfolio Val  \n",
       "Date                       \n",
       "2015-07-01   10000.000000  \n",
       "2015-07-02   10055.424566  \n",
       "2015-07-06   10029.035764  \n",
       "2015-07-07   10028.484013  \n",
       "2015-07-08    9863.244645  \n",
       "...                   ...  \n",
       "2017-12-22   17983.258276  \n",
       "2017-12-26   17953.896092  \n",
       "2017-12-27   17990.031618  \n",
       "2017-12-28   17974.392222  \n",
       "2017-12-29   17856.439380  \n",
       "\n",
       "[629 rows x 6 columns]"
      ]
     },
     "execution_count": 124,
     "metadata": {},
     "output_type": "execute_result"
    }
   ],
   "source": [
    "dfX = pd.read_csv(\"portfolio.csv\", sep='\\t')\n",
    "dfX.set_index('Date')"
   ]
  },
  {
   "cell_type": "code",
   "execution_count": 125,
   "metadata": {},
   "outputs": [
    {
     "data": {
      "text/html": [
       "<div>\n",
       "<style scoped>\n",
       "    .dataframe tbody tr th:only-of-type {\n",
       "        vertical-align: middle;\n",
       "    }\n",
       "\n",
       "    .dataframe tbody tr th {\n",
       "        vertical-align: top;\n",
       "    }\n",
       "\n",
       "    .dataframe thead th {\n",
       "        text-align: right;\n",
       "    }\n",
       "</style>\n",
       "<table border=\"1\" class=\"dataframe\">\n",
       "  <thead>\n",
       "    <tr style=\"text-align: right;\">\n",
       "      <th></th>\n",
       "      <th>Portfolio Val</th>\n",
       "    </tr>\n",
       "  </thead>\n",
       "  <tbody>\n",
       "    <tr>\n",
       "      <th>0</th>\n",
       "      <td>10000.000000</td>\n",
       "    </tr>\n",
       "    <tr>\n",
       "      <th>1</th>\n",
       "      <td>10055.424566</td>\n",
       "    </tr>\n",
       "    <tr>\n",
       "      <th>2</th>\n",
       "      <td>10029.035764</td>\n",
       "    </tr>\n",
       "    <tr>\n",
       "      <th>3</th>\n",
       "      <td>10028.484013</td>\n",
       "    </tr>\n",
       "    <tr>\n",
       "      <th>4</th>\n",
       "      <td>9863.244645</td>\n",
       "    </tr>\n",
       "    <tr>\n",
       "      <th>...</th>\n",
       "      <td>...</td>\n",
       "    </tr>\n",
       "    <tr>\n",
       "      <th>624</th>\n",
       "      <td>17983.258276</td>\n",
       "    </tr>\n",
       "    <tr>\n",
       "      <th>625</th>\n",
       "      <td>17953.896092</td>\n",
       "    </tr>\n",
       "    <tr>\n",
       "      <th>626</th>\n",
       "      <td>17990.031618</td>\n",
       "    </tr>\n",
       "    <tr>\n",
       "      <th>627</th>\n",
       "      <td>17974.392222</td>\n",
       "    </tr>\n",
       "    <tr>\n",
       "      <th>628</th>\n",
       "      <td>17856.439380</td>\n",
       "    </tr>\n",
       "  </tbody>\n",
       "</table>\n",
       "<p>629 rows × 1 columns</p>\n",
       "</div>"
      ],
      "text/plain": [
       "     Portfolio Val\n",
       "0     10000.000000\n",
       "1     10055.424566\n",
       "2     10029.035764\n",
       "3     10028.484013\n",
       "4      9863.244645\n",
       "..             ...\n",
       "624   17983.258276\n",
       "625   17953.896092\n",
       "626   17990.031618\n",
       "627   17974.392222\n",
       "628   17856.439380\n",
       "\n",
       "[629 rows x 1 columns]"
      ]
     },
     "execution_count": 125,
     "metadata": {},
     "output_type": "execute_result"
    }
   ],
   "source": [
    "dfX = dfX[['Portfolio Val']]\n",
    "dfX['Portfolio Val'] = dfX['Portfolio Val'].astype(float)\n",
    "dfX"
   ]
  },
  {
   "cell_type": "code",
   "execution_count": 127,
   "metadata": {},
   "outputs": [],
   "source": [
    "data = pd.read_csv(\"S&P500.csv\")\n",
    "data['Date']  # as a Series\n",
    "date_array = data['Date'].values  # as a numpy array\n",
    "d_list = []\n",
    "for date in date_array:\n",
    "    dt = parse(date)\n",
    "    d_item = (str(dt.date()))    \n",
    "    d_list.append(d_item)\n",
    "dfDate = pd.DataFrame(d_list,columns=['Date'])\n",
    "dfDate.set_index('Date')\n",
    "dfSP500 = pd.read_csv(\"S&P500.csv\")\n",
    "dfSP500.set_index('Date')\n",
    "dfSP500 = dfSP500.rename(columns={'Price':'SP500', 'Date':'ODate'})\n",
    "\n",
    "for i, col in enumerate(dfSP500.columns):\n",
    "    dfSP500.iloc[:, i] = dfSP500.iloc[:, i].str.replace(',', '')\n",
    "    \n",
    "dfSP500 = dfSP500.join(dfDate)\n",
    "dfSP500 = dfSP500.dropna()\n",
    "dfSP500 = dfSP500[['SP500']]\n",
    "dfSP500['SP500'] = dfSP500['SP500'].astype(float)\n",
    "dfSP500 = dfSP500[::-1]\n",
    "dfSP500.reset_index(inplace=True, drop=True)"
   ]
  },
  {
   "cell_type": "code",
   "execution_count": 128,
   "metadata": {},
   "outputs": [
    {
     "data": {
      "text/html": [
       "<div>\n",
       "<style scoped>\n",
       "    .dataframe tbody tr th:only-of-type {\n",
       "        vertical-align: middle;\n",
       "    }\n",
       "\n",
       "    .dataframe tbody tr th {\n",
       "        vertical-align: top;\n",
       "    }\n",
       "\n",
       "    .dataframe thead th {\n",
       "        text-align: right;\n",
       "    }\n",
       "</style>\n",
       "<table border=\"1\" class=\"dataframe\">\n",
       "  <thead>\n",
       "    <tr style=\"text-align: right;\">\n",
       "      <th></th>\n",
       "      <th>Portfolio Val</th>\n",
       "      <th>SP500</th>\n",
       "    </tr>\n",
       "  </thead>\n",
       "  <tbody>\n",
       "    <tr>\n",
       "      <th>0</th>\n",
       "      <td>10000.000000</td>\n",
       "      <td>2077.42</td>\n",
       "    </tr>\n",
       "    <tr>\n",
       "      <th>1</th>\n",
       "      <td>10055.424566</td>\n",
       "      <td>2076.78</td>\n",
       "    </tr>\n",
       "    <tr>\n",
       "      <th>2</th>\n",
       "      <td>10029.035764</td>\n",
       "      <td>2068.76</td>\n",
       "    </tr>\n",
       "    <tr>\n",
       "      <th>3</th>\n",
       "      <td>10028.484013</td>\n",
       "      <td>2081.34</td>\n",
       "    </tr>\n",
       "    <tr>\n",
       "      <th>4</th>\n",
       "      <td>9863.244645</td>\n",
       "      <td>2046.68</td>\n",
       "    </tr>\n",
       "    <tr>\n",
       "      <th>...</th>\n",
       "      <td>...</td>\n",
       "      <td>...</td>\n",
       "    </tr>\n",
       "    <tr>\n",
       "      <th>624</th>\n",
       "      <td>17983.258276</td>\n",
       "      <td>2679.25</td>\n",
       "    </tr>\n",
       "    <tr>\n",
       "      <th>625</th>\n",
       "      <td>17953.896092</td>\n",
       "      <td>2684.57</td>\n",
       "    </tr>\n",
       "    <tr>\n",
       "      <th>626</th>\n",
       "      <td>17990.031618</td>\n",
       "      <td>2683.34</td>\n",
       "    </tr>\n",
       "    <tr>\n",
       "      <th>627</th>\n",
       "      <td>17974.392222</td>\n",
       "      <td>2680.50</td>\n",
       "    </tr>\n",
       "    <tr>\n",
       "      <th>628</th>\n",
       "      <td>17856.439380</td>\n",
       "      <td>2682.62</td>\n",
       "    </tr>\n",
       "  </tbody>\n",
       "</table>\n",
       "<p>629 rows × 2 columns</p>\n",
       "</div>"
      ],
      "text/plain": [
       "     Portfolio Val    SP500\n",
       "0     10000.000000  2077.42\n",
       "1     10055.424566  2076.78\n",
       "2     10029.035764  2068.76\n",
       "3     10028.484013  2081.34\n",
       "4      9863.244645  2046.68\n",
       "..             ...      ...\n",
       "624   17983.258276  2679.25\n",
       "625   17953.896092  2684.57\n",
       "626   17990.031618  2683.34\n",
       "627   17974.392222  2680.50\n",
       "628   17856.439380  2682.62\n",
       "\n",
       "[629 rows x 2 columns]"
      ]
     },
     "execution_count": 128,
     "metadata": {},
     "output_type": "execute_result"
    }
   ],
   "source": [
    "dfX = dfX.join(dfSP500)\n",
    "dfX.dropna()"
   ]
  },
  {
   "cell_type": "code",
   "execution_count": 129,
   "metadata": {},
   "outputs": [
    {
     "data": {
      "text/html": [
       "<div>\n",
       "<style scoped>\n",
       "    .dataframe tbody tr th:only-of-type {\n",
       "        vertical-align: middle;\n",
       "    }\n",
       "\n",
       "    .dataframe tbody tr th {\n",
       "        vertical-align: top;\n",
       "    }\n",
       "\n",
       "    .dataframe thead th {\n",
       "        text-align: right;\n",
       "    }\n",
       "</style>\n",
       "<table border=\"1\" class=\"dataframe\">\n",
       "  <thead>\n",
       "    <tr style=\"text-align: right;\">\n",
       "      <th></th>\n",
       "      <th>Portfolio Val</th>\n",
       "      <th>SP500</th>\n",
       "      <th>Rolling_mean_PV</th>\n",
       "      <th>Rolling_std_PV</th>\n",
       "      <th>upper_band_PV</th>\n",
       "      <th>lower_band_PV</th>\n",
       "      <th>BB</th>\n",
       "    </tr>\n",
       "  </thead>\n",
       "  <tbody>\n",
       "    <tr>\n",
       "      <th>0</th>\n",
       "      <td>10000.000000</td>\n",
       "      <td>2077.42</td>\n",
       "      <td>13369.735506</td>\n",
       "      <td>104.566367</td>\n",
       "      <td>13578.868239</td>\n",
       "      <td>13160.602773</td>\n",
       "      <td>0.107968</td>\n",
       "    </tr>\n",
       "    <tr>\n",
       "      <th>1</th>\n",
       "      <td>10055.424566</td>\n",
       "      <td>2076.78</td>\n",
       "      <td>13369.735506</td>\n",
       "      <td>104.566367</td>\n",
       "      <td>13578.868239</td>\n",
       "      <td>13160.602773</td>\n",
       "      <td>0.107968</td>\n",
       "    </tr>\n",
       "    <tr>\n",
       "      <th>2</th>\n",
       "      <td>10029.035764</td>\n",
       "      <td>2068.76</td>\n",
       "      <td>13369.735506</td>\n",
       "      <td>104.566367</td>\n",
       "      <td>13578.868239</td>\n",
       "      <td>13160.602773</td>\n",
       "      <td>0.107968</td>\n",
       "    </tr>\n",
       "    <tr>\n",
       "      <th>3</th>\n",
       "      <td>10028.484013</td>\n",
       "      <td>2081.34</td>\n",
       "      <td>13369.735506</td>\n",
       "      <td>104.566367</td>\n",
       "      <td>13578.868239</td>\n",
       "      <td>13160.602773</td>\n",
       "      <td>0.107968</td>\n",
       "    </tr>\n",
       "    <tr>\n",
       "      <th>4</th>\n",
       "      <td>9863.244645</td>\n",
       "      <td>2046.68</td>\n",
       "      <td>9995.237797</td>\n",
       "      <td>76.346138</td>\n",
       "      <td>10147.930074</td>\n",
       "      <td>9842.545520</td>\n",
       "      <td>-0.864439</td>\n",
       "    </tr>\n",
       "    <tr>\n",
       "      <th>...</th>\n",
       "      <td>...</td>\n",
       "      <td>...</td>\n",
       "      <td>...</td>\n",
       "      <td>...</td>\n",
       "      <td>...</td>\n",
       "      <td>...</td>\n",
       "      <td>...</td>\n",
       "    </tr>\n",
       "    <tr>\n",
       "      <th>624</th>\n",
       "      <td>17983.258276</td>\n",
       "      <td>2679.25</td>\n",
       "      <td>18034.986713</td>\n",
       "      <td>109.541511</td>\n",
       "      <td>18254.069735</td>\n",
       "      <td>17815.903691</td>\n",
       "      <td>-0.236113</td>\n",
       "    </tr>\n",
       "    <tr>\n",
       "      <th>625</th>\n",
       "      <td>17953.896092</td>\n",
       "      <td>2684.57</td>\n",
       "      <td>17983.406597</td>\n",
       "      <td>50.021882</td>\n",
       "      <td>18083.450361</td>\n",
       "      <td>17883.362832</td>\n",
       "      <td>-0.294976</td>\n",
       "    </tr>\n",
       "    <tr>\n",
       "      <th>626</th>\n",
       "      <td>17990.031618</td>\n",
       "      <td>2683.34</td>\n",
       "      <td>17967.594727</td>\n",
       "      <td>19.109936</td>\n",
       "      <td>18005.814600</td>\n",
       "      <td>17929.374854</td>\n",
       "      <td>0.587048</td>\n",
       "    </tr>\n",
       "    <tr>\n",
       "      <th>627</th>\n",
       "      <td>17974.392222</td>\n",
       "      <td>2680.50</td>\n",
       "      <td>17973.523356</td>\n",
       "      <td>14.224080</td>\n",
       "      <td>18001.971516</td>\n",
       "      <td>17945.075196</td>\n",
       "      <td>0.030542</td>\n",
       "    </tr>\n",
       "    <tr>\n",
       "      <th>628</th>\n",
       "      <td>17856.439380</td>\n",
       "      <td>2682.62</td>\n",
       "      <td>17951.603518</td>\n",
       "      <td>54.907961</td>\n",
       "      <td>18061.419440</td>\n",
       "      <td>17841.787595</td>\n",
       "      <td>-0.866579</td>\n",
       "    </tr>\n",
       "  </tbody>\n",
       "</table>\n",
       "<p>629 rows × 7 columns</p>\n",
       "</div>"
      ],
      "text/plain": [
       "     Portfolio Val    SP500  Rolling_mean_PV  Rolling_std_PV  upper_band_PV  \\\n",
       "0     10000.000000  2077.42     13369.735506      104.566367   13578.868239   \n",
       "1     10055.424566  2076.78     13369.735506      104.566367   13578.868239   \n",
       "2     10029.035764  2068.76     13369.735506      104.566367   13578.868239   \n",
       "3     10028.484013  2081.34     13369.735506      104.566367   13578.868239   \n",
       "4      9863.244645  2046.68      9995.237797       76.346138   10147.930074   \n",
       "..             ...      ...              ...             ...            ...   \n",
       "624   17983.258276  2679.25     18034.986713      109.541511   18254.069735   \n",
       "625   17953.896092  2684.57     17983.406597       50.021882   18083.450361   \n",
       "626   17990.031618  2683.34     17967.594727       19.109936   18005.814600   \n",
       "627   17974.392222  2680.50     17973.523356       14.224080   18001.971516   \n",
       "628   17856.439380  2682.62     17951.603518       54.907961   18061.419440   \n",
       "\n",
       "     lower_band_PV        BB  \n",
       "0     13160.602773  0.107968  \n",
       "1     13160.602773  0.107968  \n",
       "2     13160.602773  0.107968  \n",
       "3     13160.602773  0.107968  \n",
       "4      9842.545520 -0.864439  \n",
       "..             ...       ...  \n",
       "624   17815.903691 -0.236113  \n",
       "625   17883.362832 -0.294976  \n",
       "626   17929.374854  0.587048  \n",
       "627   17945.075196  0.030542  \n",
       "628   17841.787595 -0.866579  \n",
       "\n",
       "[629 rows x 7 columns]"
      ]
     },
     "execution_count": 129,
     "metadata": {},
     "output_type": "execute_result"
    }
   ],
   "source": [
    "dfX['Rolling_mean_PV'] = dfX['Portfolio Val'].rolling(5).mean()\n",
    "dfX['Rolling_std_PV'] = dfX['Portfolio Val'].rolling(5).std()\n",
    "dfX['upper_band_PV'] = dfX['Rolling_mean_PV']+ (2*dfX['Rolling_std_PV'])\n",
    "dfX['lower_band_PV'] = dfX['Rolling_mean_PV']- (2*dfX['Rolling_std_PV'])\n",
    "dfX['BB'] = (dfX['Portfolio Val']- dfX['Rolling_mean_PV'])/(2*dfX['Rolling_std_PV'])\n",
    "dfX.fillna(dfX.mean())"
   ]
  },
  {
   "cell_type": "code",
   "execution_count": 130,
   "metadata": {},
   "outputs": [
    {
     "data": {
      "text/html": [
       "<div>\n",
       "<style scoped>\n",
       "    .dataframe tbody tr th:only-of-type {\n",
       "        vertical-align: middle;\n",
       "    }\n",
       "\n",
       "    .dataframe tbody tr th {\n",
       "        vertical-align: top;\n",
       "    }\n",
       "\n",
       "    .dataframe thead th {\n",
       "        text-align: right;\n",
       "    }\n",
       "</style>\n",
       "<table border=\"1\" class=\"dataframe\">\n",
       "  <thead>\n",
       "    <tr style=\"text-align: right;\">\n",
       "      <th></th>\n",
       "      <th>Portfolio Val</th>\n",
       "      <th>SP500</th>\n",
       "      <th>Rolling_mean_PV</th>\n",
       "      <th>Rolling_std_PV</th>\n",
       "      <th>upper_band_PV</th>\n",
       "      <th>lower_band_PV</th>\n",
       "      <th>BB</th>\n",
       "    </tr>\n",
       "  </thead>\n",
       "  <tbody>\n",
       "    <tr>\n",
       "      <th>count</th>\n",
       "      <td>629.000000</td>\n",
       "      <td>629.000000</td>\n",
       "      <td>625.000000</td>\n",
       "      <td>625.000000</td>\n",
       "      <td>625.000000</td>\n",
       "      <td>625.000000</td>\n",
       "      <td>625.000000</td>\n",
       "    </tr>\n",
       "    <tr>\n",
       "      <th>mean</th>\n",
       "      <td>13373.595923</td>\n",
       "      <td>2223.049141</td>\n",
       "      <td>13369.735506</td>\n",
       "      <td>104.566367</td>\n",
       "      <td>13578.868239</td>\n",
       "      <td>13160.602773</td>\n",
       "      <td>0.107968</td>\n",
       "    </tr>\n",
       "    <tr>\n",
       "      <th>std</th>\n",
       "      <td>2352.693243</td>\n",
       "      <td>207.102255</td>\n",
       "      <td>2335.808491</td>\n",
       "      <td>65.500885</td>\n",
       "      <td>2324.243397</td>\n",
       "      <td>2354.616353</td>\n",
       "      <td>0.503634</td>\n",
       "    </tr>\n",
       "    <tr>\n",
       "      <th>min</th>\n",
       "      <td>9500.286457</td>\n",
       "      <td>1829.080000</td>\n",
       "      <td>9839.985634</td>\n",
       "      <td>5.041378</td>\n",
       "      <td>10144.953111</td>\n",
       "      <td>9048.230215</td>\n",
       "      <td>-0.887889</td>\n",
       "    </tr>\n",
       "    <tr>\n",
       "      <th>25%</th>\n",
       "      <td>11281.620234</td>\n",
       "      <td>2071.180000</td>\n",
       "      <td>11271.397308</td>\n",
       "      <td>61.324932</td>\n",
       "      <td>11466.753995</td>\n",
       "      <td>11091.556441</td>\n",
       "      <td>-0.302416</td>\n",
       "    </tr>\n",
       "    <tr>\n",
       "      <th>50%</th>\n",
       "      <td>13302.268737</td>\n",
       "      <td>2168.270000</td>\n",
       "      <td>13303.927717</td>\n",
       "      <td>90.126445</td>\n",
       "      <td>13519.850888</td>\n",
       "      <td>13092.697880</td>\n",
       "      <td>0.202620</td>\n",
       "    </tr>\n",
       "    <tr>\n",
       "      <th>75%</th>\n",
       "      <td>15365.576956</td>\n",
       "      <td>2396.920000</td>\n",
       "      <td>15363.311964</td>\n",
       "      <td>135.399861</td>\n",
       "      <td>15604.631598</td>\n",
       "      <td>15041.415126</td>\n",
       "      <td>0.546905</td>\n",
       "    </tr>\n",
       "    <tr>\n",
       "      <th>max</th>\n",
       "      <td>18309.025416</td>\n",
       "      <td>2690.160000</td>\n",
       "      <td>18207.281931</td>\n",
       "      <td>528.000548</td>\n",
       "      <td>18504.266930</td>\n",
       "      <td>18027.006482</td>\n",
       "      <td>0.894274</td>\n",
       "    </tr>\n",
       "  </tbody>\n",
       "</table>\n",
       "</div>"
      ],
      "text/plain": [
       "       Portfolio Val        SP500  Rolling_mean_PV  Rolling_std_PV  \\\n",
       "count     629.000000   629.000000       625.000000      625.000000   \n",
       "mean    13373.595923  2223.049141     13369.735506      104.566367   \n",
       "std      2352.693243   207.102255      2335.808491       65.500885   \n",
       "min      9500.286457  1829.080000      9839.985634        5.041378   \n",
       "25%     11281.620234  2071.180000     11271.397308       61.324932   \n",
       "50%     13302.268737  2168.270000     13303.927717       90.126445   \n",
       "75%     15365.576956  2396.920000     15363.311964      135.399861   \n",
       "max     18309.025416  2690.160000     18207.281931      528.000548   \n",
       "\n",
       "       upper_band_PV  lower_band_PV          BB  \n",
       "count     625.000000     625.000000  625.000000  \n",
       "mean    13578.868239   13160.602773    0.107968  \n",
       "std      2324.243397    2354.616353    0.503634  \n",
       "min     10144.953111    9048.230215   -0.887889  \n",
       "25%     11466.753995   11091.556441   -0.302416  \n",
       "50%     13519.850888   13092.697880    0.202620  \n",
       "75%     15604.631598   15041.415126    0.546905  \n",
       "max     18504.266930   18027.006482    0.894274  "
      ]
     },
     "execution_count": 130,
     "metadata": {},
     "output_type": "execute_result"
    }
   ],
   "source": [
    "dfX.describe()"
   ]
  },
  {
   "cell_type": "code",
   "execution_count": 194,
   "metadata": {},
   "outputs": [
    {
     "data": {
      "text/plain": [
       "<AxesSubplot:>"
      ]
     },
     "execution_count": 194,
     "metadata": {},
     "output_type": "execute_result"
    },
    {
     "data": {
      "image/png": "[encoded data removed]",
      "text/plain": [
       "<Figure size 432x288 with 2 Axes>"
      ]
     },
     "metadata": {
      "needs_background": "light"
     },
     "output_type": "display_data"
    }
   ],
   "source": [
    "import matplotlib.pylab as plt\n",
    "import seaborn as sns\n",
    "# calculate correlation matrix\n",
    "corr = dfX.corr()# plot the heatmap\n",
    "sns.heatmap(corr, annot=True)\n",
    "#xticklabels=corr.columns, yticklabels=corr.columns,\n",
    "#, cmap=sns.diverging_palette(220, 20, as_cmap=True))"
   ]
  },
  {
   "cell_type": "code",
   "execution_count": 188,
   "metadata": {},
   "outputs": [],
   "source": [
    "X_head = dfX.iloc[:, dfX.columns != 'Portfolio Val']"
   ]
  },
  {
   "cell_type": "code",
   "execution_count": 156,
   "metadata": {},
   "outputs": [],
   "source": [
    "dfX[4:].to_csv('XY_var.csv', sep='\\t', encoding='utf-8')"
   ]
  },
  {
   "cell_type": "code",
   "execution_count": 157,
   "metadata": {},
   "outputs": [],
   "source": [
    "y = pd.read_csv(\"XY_var.csv\", sep='\\t')"
   ]
  },
  {
   "cell_type": "code",
   "execution_count": 158,
   "metadata": {},
   "outputs": [],
   "source": [
    "y = y['Portfolio Val'].to_numpy()"
   ]
  },
  {
   "cell_type": "code",
   "execution_count": 159,
   "metadata": {},
   "outputs": [
    {
     "data": {
      "text/plain": [
       "(625,)"
      ]
     },
     "execution_count": 159,
     "metadata": {},
     "output_type": "execute_result"
    }
   ],
   "source": [
    "y.shape"
   ]
  },
  {
   "cell_type": "code",
   "execution_count": 160,
   "metadata": {},
   "outputs": [],
   "source": [
    "x = pd.read_csv(\"XY_var.csv\", sep='\\t')"
   ]
  },
  {
   "cell_type": "code",
   "execution_count": 161,
   "metadata": {},
   "outputs": [],
   "source": [
    "x = x[['SP500', 'Rolling_mean_PV', 'Rolling_std_PV', 'upper_band_PV', 'lower_band_PV', 'BB']]"
   ]
  },
  {
   "cell_type": "code",
   "execution_count": 162,
   "metadata": {},
   "outputs": [],
   "source": [
    "x = x.to_numpy()"
   ]
  },
  {
   "cell_type": "code",
   "execution_count": 163,
   "metadata": {},
   "outputs": [
    {
     "data": {
      "text/plain": [
       "(625, 6)"
      ]
     },
     "execution_count": 163,
     "metadata": {},
     "output_type": "execute_result"
    }
   ],
   "source": [
    "x.shape"
   ]
  },
  {
   "cell_type": "code",
   "execution_count": 164,
   "metadata": {},
   "outputs": [
    {
     "data": {
      "text/plain": [
       "array([[ 2.04668000e+03,  9.99523780e+03,  7.63461385e+01,\n",
       "         1.01479301e+04,  9.84254552e+03, -8.64438959e-01],\n",
       "       [ 2.05131000e+03,  9.98010241e+03,  8.24253526e+01,\n",
       "         1.01449531e+04,  9.81525170e+03, -3.38362906e-01],\n",
       "       [ 2.07662000e+03,  9.99044516e+03,  9.63140651e+01,\n",
       "         1.01830733e+04,  9.79781703e+03,  6.05795175e-01],\n",
       "       ...,\n",
       "       [ 2.68334000e+03,  1.79675947e+04,  1.91099364e+01,\n",
       "         1.80058146e+04,  1.79293749e+04,  5.87047761e-01],\n",
       "       [ 2.68050000e+03,  1.79735234e+04,  1.42240800e+01,\n",
       "         1.80019715e+04,  1.79450752e+04,  3.05421013e-02],\n",
       "       [ 2.68262000e+03,  1.79516035e+04,  5.49079611e+01,\n",
       "         1.80614194e+04,  1.78417876e+04, -8.66578690e-01]])"
      ]
     },
     "execution_count": 164,
     "metadata": {},
     "output_type": "execute_result"
    }
   ],
   "source": [
    "x"
   ]
  },
  {
   "cell_type": "code",
   "execution_count": 165,
   "metadata": {},
   "outputs": [],
   "source": [
    "x_train, x_test, y_train, y_test = train_test_split(x, y, test_size=0.20)"
   ]
  },
  {
   "cell_type": "markdown",
   "metadata": {},
   "source": [
    "# Decision Tree Model"
   ]
  },
  {
   "cell_type": "code",
   "execution_count": 166,
   "metadata": {},
   "outputs": [
    {
     "data": {
      "text/plain": [
       "DecisionTreeRegressor()"
      ]
     },
     "execution_count": 166,
     "metadata": {},
     "output_type": "execute_result"
    }
   ],
   "source": [
    "from sklearn.tree import DecisionTreeRegressor\n",
    "regressor = DecisionTreeRegressor()\n",
    "regressor.fit(x_train, y_train)"
   ]
  },
  {
   "cell_type": "code",
   "execution_count": 190,
   "metadata": {},
   "outputs": [
    {
     "data": {
      "text/plain": [
       "<AxesSubplot:>"
      ]
     },
     "execution_count": 190,
     "metadata": {},
     "output_type": "execute_result"
    },
    {
     "data": {
      "image/png": "[encoded data removed]",
      "text/plain": [
       "<Figure size 720x720 with 1 Axes>"
      ]
     },
     "metadata": {
      "needs_background": "light"
     },
     "output_type": "display_data"
    }
   ],
   "source": [
    "feat_importances = pd.Series(regressor.feature_importances_, index=X_head.columns)\n",
    "feat_importances.nlargest(25).plot(kind='barh',figsize=(10,10))"
   ]
  },
  {
   "cell_type": "code",
   "execution_count": 167,
   "metadata": {},
   "outputs": [],
   "source": [
    "y_pred = regressor.predict(x_test)"
   ]
  },
  {
   "cell_type": "code",
   "execution_count": 168,
   "metadata": {},
   "outputs": [
    {
     "data": {
      "text/html": [
       "<div>\n",
       "<style scoped>\n",
       "    .dataframe tbody tr th:only-of-type {\n",
       "        vertical-align: middle;\n",
       "    }\n",
       "\n",
       "    .dataframe tbody tr th {\n",
       "        vertical-align: top;\n",
       "    }\n",
       "\n",
       "    .dataframe thead th {\n",
       "        text-align: right;\n",
       "    }\n",
       "</style>\n",
       "<table border=\"1\" class=\"dataframe\">\n",
       "  <thead>\n",
       "    <tr style=\"text-align: right;\">\n",
       "      <th></th>\n",
       "      <th>Actual</th>\n",
       "      <th>Predicted</th>\n",
       "    </tr>\n",
       "  </thead>\n",
       "  <tbody>\n",
       "    <tr>\n",
       "      <th>0</th>\n",
       "      <td>16578.005608</td>\n",
       "      <td>16488.048146</td>\n",
       "    </tr>\n",
       "    <tr>\n",
       "      <th>1</th>\n",
       "      <td>10896.888664</td>\n",
       "      <td>10822.477002</td>\n",
       "    </tr>\n",
       "    <tr>\n",
       "      <th>2</th>\n",
       "      <td>10510.768142</td>\n",
       "      <td>10728.657566</td>\n",
       "    </tr>\n",
       "    <tr>\n",
       "      <th>3</th>\n",
       "      <td>16589.798219</td>\n",
       "      <td>16611.712650</td>\n",
       "    </tr>\n",
       "    <tr>\n",
       "      <th>4</th>\n",
       "      <td>12186.537554</td>\n",
       "      <td>12105.487029</td>\n",
       "    </tr>\n",
       "    <tr>\n",
       "      <th>...</th>\n",
       "      <td>...</td>\n",
       "      <td>...</td>\n",
       "    </tr>\n",
       "    <tr>\n",
       "      <th>120</th>\n",
       "      <td>13227.259515</td>\n",
       "      <td>13141.932625</td>\n",
       "    </tr>\n",
       "    <tr>\n",
       "      <th>121</th>\n",
       "      <td>11169.249865</td>\n",
       "      <td>11229.529024</td>\n",
       "    </tr>\n",
       "    <tr>\n",
       "      <th>122</th>\n",
       "      <td>12722.793578</td>\n",
       "      <td>12707.180094</td>\n",
       "    </tr>\n",
       "    <tr>\n",
       "      <th>123</th>\n",
       "      <td>15569.958674</td>\n",
       "      <td>15584.191935</td>\n",
       "    </tr>\n",
       "    <tr>\n",
       "      <th>124</th>\n",
       "      <td>11282.763059</td>\n",
       "      <td>11281.620234</td>\n",
       "    </tr>\n",
       "  </tbody>\n",
       "</table>\n",
       "<p>125 rows × 2 columns</p>\n",
       "</div>"
      ],
      "text/plain": [
       "           Actual     Predicted\n",
       "0    16578.005608  16488.048146\n",
       "1    10896.888664  10822.477002\n",
       "2    10510.768142  10728.657566\n",
       "3    16589.798219  16611.712650\n",
       "4    12186.537554  12105.487029\n",
       "..            ...           ...\n",
       "120  13227.259515  13141.932625\n",
       "121  11169.249865  11229.529024\n",
       "122  12722.793578  12707.180094\n",
       "123  15569.958674  15584.191935\n",
       "124  11282.763059  11281.620234\n",
       "\n",
       "[125 rows x 2 columns]"
      ]
     },
     "execution_count": 168,
     "metadata": {},
     "output_type": "execute_result"
    }
   ],
   "source": [
    "df=pd.DataFrame({'Actual':y_test, 'Predicted':y_pred})\n",
    "df"
   ]
  },
  {
   "cell_type": "code",
   "execution_count": 169,
   "metadata": {},
   "outputs": [
    {
     "name": "stdout",
     "output_type": "stream",
     "text": [
      "Mean Absolute Error: 71.80692044341295\n",
      "Mean Squared Error: 17659.93364948476\n",
      "Root Mean Squared Error: 132.8906830800593\n"
     ]
    }
   ],
   "source": [
    "from sklearn import metrics\n",
    "print('Mean Absolute Error:', metrics.mean_absolute_error(y_test, y_pred))\n",
    "print('Mean Squared Error:', metrics.mean_squared_error(y_test, y_pred))\n",
    "print('Root Mean Squared Error:', np.sqrt(metrics.mean_squared_error(y_test, y_pred)))"
   ]
  },
  {
   "cell_type": "markdown",
   "metadata": {},
   "source": [
    "# Random Forest Regressor"
   ]
  },
  {
   "cell_type": "code",
   "execution_count": 179,
   "metadata": {},
   "outputs": [],
   "source": [
    "x_train, x_test, y_train, y_test = train_test_split(x, y, test_size=0.50)"
   ]
  },
  {
   "cell_type": "code",
   "execution_count": 180,
   "metadata": {},
   "outputs": [
    {
     "data": {
      "text/plain": [
       "(0.9997109769438164, 0.9971896265304246)"
      ]
     },
     "execution_count": 180,
     "metadata": {},
     "output_type": "execute_result"
    }
   ],
   "source": [
    "model = RandomForestRegressor(random_state=0).fit(x_train, y_train)\n",
    "model.score(x_train, y_train), model.score(x_test, y_test)"
   ]
  },
  {
   "cell_type": "code",
   "execution_count": 189,
   "metadata": {},
   "outputs": [
    {
     "data": {
      "text/plain": [
       "<AxesSubplot:>"
      ]
     },
     "execution_count": 189,
     "metadata": {},
     "output_type": "execute_result"
    },
    {
     "data": {
      "image/png": "[encoded data removed]",
      "text/plain": [
       "<Figure size 720x720 with 1 Axes>"
      ]
     },
     "metadata": {
      "needs_background": "light"
     },
     "output_type": "display_data"
    }
   ],
   "source": [
    "feat_importances = pd.Series(model.feature_importances_, index=X_head.columns)\n",
    "feat_importances.nlargest(25).plot(kind='barh',figsize=(10,10))"
   ]
  },
  {
   "cell_type": "code",
   "execution_count": 182,
   "metadata": {},
   "outputs": [],
   "source": [
    "y_pred=model.predict(x_test)"
   ]
  },
  {
   "cell_type": "code",
   "execution_count": 183,
   "metadata": {},
   "outputs": [
    {
     "data": {
      "text/html": [
       "<div>\n",
       "<style scoped>\n",
       "    .dataframe tbody tr th:only-of-type {\n",
       "        vertical-align: middle;\n",
       "    }\n",
       "\n",
       "    .dataframe tbody tr th {\n",
       "        vertical-align: top;\n",
       "    }\n",
       "\n",
       "    .dataframe thead th {\n",
       "        text-align: right;\n",
       "    }\n",
       "</style>\n",
       "<table border=\"1\" class=\"dataframe\">\n",
       "  <thead>\n",
       "    <tr style=\"text-align: right;\">\n",
       "      <th></th>\n",
       "      <th>Actual</th>\n",
       "      <th>Predicted</th>\n",
       "    </tr>\n",
       "  </thead>\n",
       "  <tbody>\n",
       "    <tr>\n",
       "      <th>0</th>\n",
       "      <td>15648.902542</td>\n",
       "      <td>15612.197362</td>\n",
       "    </tr>\n",
       "    <tr>\n",
       "      <th>1</th>\n",
       "      <td>10138.833666</td>\n",
       "      <td>10149.533568</td>\n",
       "    </tr>\n",
       "    <tr>\n",
       "      <th>2</th>\n",
       "      <td>10474.599498</td>\n",
       "      <td>10392.047311</td>\n",
       "    </tr>\n",
       "    <tr>\n",
       "      <th>3</th>\n",
       "      <td>10153.359846</td>\n",
       "      <td>10292.561792</td>\n",
       "    </tr>\n",
       "    <tr>\n",
       "      <th>4</th>\n",
       "      <td>11035.505338</td>\n",
       "      <td>11153.178917</td>\n",
       "    </tr>\n",
       "    <tr>\n",
       "      <th>...</th>\n",
       "      <td>...</td>\n",
       "      <td>...</td>\n",
       "    </tr>\n",
       "    <tr>\n",
       "      <th>308</th>\n",
       "      <td>13682.887823</td>\n",
       "      <td>13704.527677</td>\n",
       "    </tr>\n",
       "    <tr>\n",
       "      <th>309</th>\n",
       "      <td>16658.307083</td>\n",
       "      <td>16595.106967</td>\n",
       "    </tr>\n",
       "    <tr>\n",
       "      <th>310</th>\n",
       "      <td>14550.819005</td>\n",
       "      <td>14525.086312</td>\n",
       "    </tr>\n",
       "    <tr>\n",
       "      <th>311</th>\n",
       "      <td>10593.017685</td>\n",
       "      <td>10439.016158</td>\n",
       "    </tr>\n",
       "    <tr>\n",
       "      <th>312</th>\n",
       "      <td>11396.057196</td>\n",
       "      <td>11214.970165</td>\n",
       "    </tr>\n",
       "  </tbody>\n",
       "</table>\n",
       "<p>313 rows × 2 columns</p>\n",
       "</div>"
      ],
      "text/plain": [
       "           Actual     Predicted\n",
       "0    15648.902542  15612.197362\n",
       "1    10138.833666  10149.533568\n",
       "2    10474.599498  10392.047311\n",
       "3    10153.359846  10292.561792\n",
       "4    11035.505338  11153.178917\n",
       "..            ...           ...\n",
       "308  13682.887823  13704.527677\n",
       "309  16658.307083  16595.106967\n",
       "310  14550.819005  14525.086312\n",
       "311  10593.017685  10439.016158\n",
       "312  11396.057196  11214.970165\n",
       "\n",
       "[313 rows x 2 columns]"
      ]
     },
     "execution_count": 183,
     "metadata": {},
     "output_type": "execute_result"
    }
   ],
   "source": [
    "df=pd.DataFrame({'Actual':y_test, 'Predicted':y_pred})\n",
    "df"
   ]
  },
  {
   "cell_type": "code",
   "execution_count": 184,
   "metadata": {},
   "outputs": [
    {
     "name": "stdout",
     "output_type": "stream",
     "text": [
      "Mean Absolute Error: 82.88669918967823\n",
      "Mean Squared Error: 15294.013463892577\n",
      "Root Mean Squared Error: 123.66896726298226\n"
     ]
    }
   ],
   "source": [
    "print('Mean Absolute Error:', metrics.mean_absolute_error(y_test, y_pred))\n",
    "print('Mean Squared Error:', metrics.mean_squared_error(y_test, y_pred))\n",
    "print('Root Mean Squared Error:', np.sqrt(metrics.mean_squared_error(y_test, y_pred)))"
   ]
  },
  {
   "cell_type": "code",
   "execution_count": 185,
   "metadata": {},
   "outputs": [
    {
     "name": "stdout",
     "output_type": "stream",
     "text": [
      "Training score  0.9997359362634579\n",
      "Test Error  0.9972221851279855\n"
     ]
    }
   ],
   "source": [
    "bagging = RandomForestRegressor(max_features=None)# or we can pass max_features = len(X_train.columns) = 13\n",
    "bagging.fit(x_train,y_train)\n",
    "print('Training score ',bagging.score(x_train,y_train))\n",
    "print('Test Error ',bagging.score(x_test,y_test))"
   ]
  },
  {
   "cell_type": "code",
   "execution_count": 186,
   "metadata": {},
   "outputs": [
    {
     "name": "stdout",
     "output_type": "stream",
     "text": [
      "Training score  0.9991992115733455\n",
      "Test Error  0.9959716891932772\n"
     ]
    }
   ],
   "source": [
    "rf = RandomForestRegressor(max_features = 1) # same as book\n",
    "rf.fit(x_train,y_train)\n",
    "print('Training score ',rf.score(x_train,y_train))\n",
    "print('Test Error ',rf.score(x_test,y_test))"
   ]
  }
 ],
 "metadata": {
  "kernelspec": {
   "display_name": "Python 3",
   "language": "python",
   "name": "python3"
  },
  "language_info": {
   "codemirror_mode": {
    "name": "ipython",
    "version": 3
   },
   "file_extension": ".py",
   "mimetype": "text/x-python",
   "name": "python",
   "nbconvert_exporter": "python",
   "pygments_lexer": "ipython3",
   "version": "3.7.7"
  }
 },
 "nbformat": 4,
 "nbformat_minor": 4
}
