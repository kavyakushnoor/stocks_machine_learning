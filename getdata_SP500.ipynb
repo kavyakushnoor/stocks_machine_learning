{
 "cells": [
  {
   "cell_type": "code",
   "execution_count": 1,
   "metadata": {},
   "outputs": [],
   "source": [
    "from dateutil.parser import parse\n",
    "import pandas as pd"
   ]
  },
  {
   "cell_type": "code",
   "execution_count": 2,
   "metadata": {},
   "outputs": [],
   "source": [
    "data = pd.read_csv(\"S&P500.csv\")\n",
    "\n",
    "data['Date']  # as a Series\n",
    "date_array = data['Date'].values  # as a numpy array"
   ]
  },
  {
   "cell_type": "code",
   "execution_count": 4,
   "metadata": {},
   "outputs": [],
   "source": [
    "d_list = []\n",
    "for date in date_array:\n",
    "    dt = parse(date)\n",
    "    d_item = (str(dt.date()))    \n",
    "    d_list.append(d_item)\n",
    "dfDate = pd.DataFrame (d_list,columns=['Date'])\n",
    "#d_list"
   ]
  },
  {
   "cell_type": "code",
   "execution_count": 5,
   "metadata": {},
   "outputs": [],
   "source": [
    "dfSP500 = pd.read_csv(\"S&P500.csv\")\n",
    "dfSP500.set_index('Date')\n",
    "dfSP500 = dfSP500.rename(columns={'Price':'SP500', 'Date':'ODate'})"
   ]
  },
  {
   "cell_type": "code",
   "execution_count": 6,
   "metadata": {},
   "outputs": [
    {
     "data": {
      "text/html": [
       "<div>\n",
       "<style scoped>\n",
       "    .dataframe tbody tr th:only-of-type {\n",
       "        vertical-align: middle;\n",
       "    }\n",
       "\n",
       "    .dataframe tbody tr th {\n",
       "        vertical-align: top;\n",
       "    }\n",
       "\n",
       "    .dataframe thead th {\n",
       "        text-align: right;\n",
       "    }\n",
       "</style>\n",
       "<table border=\"1\" class=\"dataframe\">\n",
       "  <thead>\n",
       "    <tr style=\"text-align: right;\">\n",
       "      <th></th>\n",
       "      <th>Date</th>\n",
       "      <th>SP500</th>\n",
       "    </tr>\n",
       "  </thead>\n",
       "  <tbody>\n",
       "    <tr>\n",
       "      <th>0</th>\n",
       "      <td>2018-03-29</td>\n",
       "      <td>2,640.87</td>\n",
       "    </tr>\n",
       "    <tr>\n",
       "      <th>1</th>\n",
       "      <td>2018-03-28</td>\n",
       "      <td>2,605.00</td>\n",
       "    </tr>\n",
       "    <tr>\n",
       "      <th>2</th>\n",
       "      <td>2018-03-27</td>\n",
       "      <td>2,612.62</td>\n",
       "    </tr>\n",
       "    <tr>\n",
       "      <th>3</th>\n",
       "      <td>2018-03-26</td>\n",
       "      <td>2,658.55</td>\n",
       "    </tr>\n",
       "    <tr>\n",
       "      <th>4</th>\n",
       "      <td>2018-03-23</td>\n",
       "      <td>2,588.26</td>\n",
       "    </tr>\n",
       "    <tr>\n",
       "      <th>...</th>\n",
       "      <td>...</td>\n",
       "      <td>...</td>\n",
       "    </tr>\n",
       "    <tr>\n",
       "      <th>687</th>\n",
       "      <td>2015-07-08</td>\n",
       "      <td>2,046.68</td>\n",
       "    </tr>\n",
       "    <tr>\n",
       "      <th>688</th>\n",
       "      <td>2015-07-07</td>\n",
       "      <td>2,081.34</td>\n",
       "    </tr>\n",
       "    <tr>\n",
       "      <th>689</th>\n",
       "      <td>2015-07-06</td>\n",
       "      <td>2,068.76</td>\n",
       "    </tr>\n",
       "    <tr>\n",
       "      <th>690</th>\n",
       "      <td>2015-07-02</td>\n",
       "      <td>2,076.78</td>\n",
       "    </tr>\n",
       "    <tr>\n",
       "      <th>691</th>\n",
       "      <td>2015-07-01</td>\n",
       "      <td>2,077.42</td>\n",
       "    </tr>\n",
       "  </tbody>\n",
       "</table>\n",
       "<p>692 rows × 2 columns</p>\n",
       "</div>"
      ],
      "text/plain": [
       "           Date     SP500\n",
       "0    2018-03-29  2,640.87\n",
       "1    2018-03-28  2,605.00\n",
       "2    2018-03-27  2,612.62\n",
       "3    2018-03-26  2,658.55\n",
       "4    2018-03-23  2,588.26\n",
       "..          ...       ...\n",
       "687  2015-07-08  2,046.68\n",
       "688  2015-07-07  2,081.34\n",
       "689  2015-07-06  2,068.76\n",
       "690  2015-07-02  2,076.78\n",
       "691  2015-07-01  2,077.42\n",
       "\n",
       "[692 rows x 2 columns]"
      ]
     },
     "execution_count": 6,
     "metadata": {},
     "output_type": "execute_result"
    }
   ],
   "source": [
    "dfSP500 = dfSP500.join(dfDate)\n",
    "dfSP500 = dfSP500.dropna()\n",
    "dfSP500 = dfSP500[['Date', 'SP500']]\n",
    "dfSP500"
   ]
  }
 ],
 "metadata": {
  "kernelspec": {
   "display_name": "Python 3",
   "language": "python",
   "name": "python3"
  },
  "language_info": {
   "codemirror_mode": {
    "name": "ipython",
    "version": 3
   },
   "file_extension": ".py",
   "mimetype": "text/x-python",
   "name": "python",
   "nbconvert_exporter": "python",
   "pygments_lexer": "ipython3",
   "version": "3.7.7"
  }
 },
 "nbformat": 4,
 "nbformat_minor": 4
}
