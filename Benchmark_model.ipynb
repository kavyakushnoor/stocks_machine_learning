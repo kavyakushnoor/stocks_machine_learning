{
 "cells": [
  {
   "cell_type": "markdown",
   "metadata": {},
   "source": [
    "# Predicting Stock Prices for a Portfolio\n",
    "\n",
    "In this notebook we will predict the stock prices of a portfolio using Linear Regression."
   ]
  },
  {
   "cell_type": "markdown",
   "metadata": {},
   "source": [
    "## Data and Inputs:\n",
    "\n",
    "The data will use the following stocks in the portfolio:\n",
    "\n",
    "- Apple\n",
    "- Amazon\n",
    "- Exelon Corporation \n",
    "- Nasdaq\n",
    "- Royal Gold Inc.\n",
    "<br>\n",
    "\n",
    "**Training and Testing Data Period:** <br>\n",
    "Start Date: July 1, 2015 <br>\n",
    "End Date: Dec 31, 2018"
   ]
  },
  {
   "cell_type": "markdown",
   "metadata": {},
   "source": [
    "# Set up the notebook\n",
    "We will begin by importing all the necessary Python modules required to run the notebook."
   ]
  },
  {
   "cell_type": "code",
   "execution_count": 7,
   "metadata": {},
   "outputs": [],
   "source": [
    "%matplotlib inline\n",
    "\n",
    "import quandl\n",
    "import pandas as pd\n",
    "import matplotlib.pyplot as plt\n",
    "import numpy as np\n",
    "from sklearn.linear_model import LinearRegression\n",
    "from sklearn.model_selection import train_test_split\n",
    "from sklearn.ensemble import GradientBoostingRegressor\n",
    "from sklearn.ensemble import RandomForestRegressor\n",
    "from dateutil.parser import parse\n",
    "from sklearn import metrics"
   ]
  },
  {
   "cell_type": "markdown",
   "metadata": {},
   "source": [
    "# Load and Explore the Data\n",
    "We will trading data, collected over the time period of:\n",
    "\n",
    "**Start Date:** July 1, 2015 <br> \n",
    "**End Date:** Dec 31, 2018    \n",
    "    \n",
    "The cell below will download this data from the quandl API, giving you data in the form of a pandas dataframe."
   ]
  },
  {
   "cell_type": "code",
   "execution_count": 8,
   "metadata": {},
   "outputs": [],
   "source": [
    "start_date = \"2015-7-1\"\n",
    "end_date = \"2017-12-31\""
   ]
  },
  {
   "cell_type": "code",
   "execution_count": 9,
   "metadata": {},
   "outputs": [],
   "source": [
    "dfAAPL = quandl.get(\"WIKI/AAPL\", start_date=\"2015-7-1\", end_date=\"2017-12-31\")\n",
    "dfAAPL = dfAAPL.rename(columns={'Adj. Close':'AAPL'})\n",
    "\n",
    "dfAMZN = quandl.get(\"WIKI/AMZN\", start_date=\"2015-7-1\", end_date=\"2017-12-31\")\n",
    "dfAMZN = dfAMZN.rename(columns={'Adj. Close':'AMZN'})\n",
    "\n",
    "dfEXC = quandl.get(\"WIKI/EXC\", start_date=\"2015-7-1\", end_date=\"2017-12-31\")\n",
    "dfEXC = dfEXC.rename(columns={'Adj. Close':'EXC'})\n",
    "\n",
    "dfNDAQ = quandl.get(\"WIKI/NDAQ\", start_date=\"2015-7-1\", end_date=\"2017-12-31\")\n",
    "dfNDAQ = dfNDAQ.rename(columns={'Adj. Close':'NDAQ'})\n",
    "\n",
    "dfRGLD = quandl.get(\"WIKI/RGLD\", start_date=\"2015-7-1\", end_date=\"2017-12-31\")\n",
    "dfRGLD = dfRGLD.rename(columns={'Adj. Close':'RGLD'})\n"
   ]
  },
  {
   "cell_type": "markdown",
   "metadata": {},
   "source": [
    "# Pre-Process the Data\n",
    "\n",
    "The /quandl dataframes have the following attributes:\n",
    "* Date\n",
    "* Open\n",
    "* High\n",
    "* Low\n",
    "* Close\n",
    "* Volume\n",
    "* Ex-Dividend\n",
    "* Split Ratio\n",
    "* Adj. Open\n",
    "* Adj. High\n",
    "* Adj. Low\n",
    "* Adj. Close\n",
    "* Adj. Volume\n",
    "\n",
    "Of all these columns, we will use only ***Adj. Close***. This is because the trading data is very volatile and \n",
    "changes several times within a day. Adjusted closing price factors a stock's value to reflect any corporate \n",
    "actions such as dividends, rights offerings and stock splits. For more information, [visit this post.](https://www.investopedia.com/terms/a/adjusted_closing_price.asp#:~:text=The%20adjusted%20closing%20price%20amends,detailed%20analysis%20of%20past%20performance.)\n",
    "\n",
    "This is the reason why you will notice that each of the stock's adjusted price has been renamed to its ticker symbol in the cell above."
   ]
  },
  {
   "cell_type": "markdown",
   "metadata": {},
   "source": [
    "**Below, we will create a new DataFrame and join the portfolio value from the individual DataFrames above.**"
   ]
  },
  {
   "cell_type": "code",
   "execution_count": 10,
   "metadata": {},
   "outputs": [
    {
     "data": {
      "text/html": [
       "<div>\n",
       "<style scoped>\n",
       "    .dataframe tbody tr th:only-of-type {\n",
       "        vertical-align: middle;\n",
       "    }\n",
       "\n",
       "    .dataframe tbody tr th {\n",
       "        vertical-align: top;\n",
       "    }\n",
       "\n",
       "    .dataframe thead th {\n",
       "        text-align: right;\n",
       "    }\n",
       "</style>\n",
       "<table border=\"1\" class=\"dataframe\">\n",
       "  <thead>\n",
       "    <tr style=\"text-align: right;\">\n",
       "      <th></th>\n",
       "      <th>AAPL</th>\n",
       "      <th>AMZN</th>\n",
       "      <th>EXC</th>\n",
       "      <th>NDAQ</th>\n",
       "      <th>RGLD</th>\n",
       "    </tr>\n",
       "    <tr>\n",
       "      <th>Date</th>\n",
       "      <th></th>\n",
       "      <th></th>\n",
       "      <th></th>\n",
       "      <th></th>\n",
       "      <th></th>\n",
       "    </tr>\n",
       "  </thead>\n",
       "  <tbody>\n",
       "    <tr>\n",
       "      <th>2015-07-01</th>\n",
       "      <td>121.243068</td>\n",
       "      <td>437.39</td>\n",
       "      <td>29.107162</td>\n",
       "      <td>46.691199</td>\n",
       "      <td>58.987619</td>\n",
       "    </tr>\n",
       "    <tr>\n",
       "      <th>2015-07-02</th>\n",
       "      <td>121.089838</td>\n",
       "      <td>437.71</td>\n",
       "      <td>29.400710</td>\n",
       "      <td>47.093792</td>\n",
       "      <td>60.214716</td>\n",
       "    </tr>\n",
       "    <tr>\n",
       "      <th>2015-07-06</th>\n",
       "      <td>120.668456</td>\n",
       "      <td>436.04</td>\n",
       "      <td>29.299803</td>\n",
       "      <td>46.739127</td>\n",
       "      <td>61.282387</td>\n",
       "    </tr>\n",
       "    <tr>\n",
       "      <th>2015-07-07</th>\n",
       "      <td>120.371574</td>\n",
       "      <td>436.72</td>\n",
       "      <td>30.061194</td>\n",
       "      <td>46.815812</td>\n",
       "      <td>59.548025</td>\n",
       "    </tr>\n",
       "    <tr>\n",
       "      <th>2015-07-08</th>\n",
       "      <td>117.383593</td>\n",
       "      <td>429.70</td>\n",
       "      <td>29.905246</td>\n",
       "      <td>45.876428</td>\n",
       "      <td>59.678465</td>\n",
       "    </tr>\n",
       "    <tr>\n",
       "      <th>...</th>\n",
       "      <td>...</td>\n",
       "      <td>...</td>\n",
       "      <td>...</td>\n",
       "      <td>...</td>\n",
       "      <td>...</td>\n",
       "    </tr>\n",
       "    <tr>\n",
       "      <th>2017-12-22</th>\n",
       "      <td>175.010000</td>\n",
       "      <td>1168.36</td>\n",
       "      <td>39.010000</td>\n",
       "      <td>76.090000</td>\n",
       "      <td>86.560000</td>\n",
       "    </tr>\n",
       "    <tr>\n",
       "      <th>2017-12-26</th>\n",
       "      <td>170.570000</td>\n",
       "      <td>1176.76</td>\n",
       "      <td>38.810000</td>\n",
       "      <td>76.130000</td>\n",
       "      <td>87.650000</td>\n",
       "    </tr>\n",
       "    <tr>\n",
       "      <th>2017-12-27</th>\n",
       "      <td>170.600000</td>\n",
       "      <td>1182.26</td>\n",
       "      <td>38.990000</td>\n",
       "      <td>76.340000</td>\n",
       "      <td>86.730000</td>\n",
       "    </tr>\n",
       "    <tr>\n",
       "      <th>2017-12-28</th>\n",
       "      <td>171.080000</td>\n",
       "      <td>1186.10</td>\n",
       "      <td>39.300000</td>\n",
       "      <td>76.670000</td>\n",
       "      <td>82.050000</td>\n",
       "    </tr>\n",
       "    <tr>\n",
       "      <th>2017-12-29</th>\n",
       "      <td>169.230000</td>\n",
       "      <td>1169.47</td>\n",
       "      <td>39.410000</td>\n",
       "      <td>76.830000</td>\n",
       "      <td>82.120000</td>\n",
       "    </tr>\n",
       "  </tbody>\n",
       "</table>\n",
       "<p>629 rows × 5 columns</p>\n",
       "</div>"
      ],
      "text/plain": [
       "                  AAPL     AMZN        EXC       NDAQ       RGLD\n",
       "Date                                                            \n",
       "2015-07-01  121.243068   437.39  29.107162  46.691199  58.987619\n",
       "2015-07-02  121.089838   437.71  29.400710  47.093792  60.214716\n",
       "2015-07-06  120.668456   436.04  29.299803  46.739127  61.282387\n",
       "2015-07-07  120.371574   436.72  30.061194  46.815812  59.548025\n",
       "2015-07-08  117.383593   429.70  29.905246  45.876428  59.678465\n",
       "...                ...      ...        ...        ...        ...\n",
       "2017-12-22  175.010000  1168.36  39.010000  76.090000  86.560000\n",
       "2017-12-26  170.570000  1176.76  38.810000  76.130000  87.650000\n",
       "2017-12-27  170.600000  1182.26  38.990000  76.340000  86.730000\n",
       "2017-12-28  171.080000  1186.10  39.300000  76.670000  82.050000\n",
       "2017-12-29  169.230000  1169.47  39.410000  76.830000  82.120000\n",
       "\n",
       "[629 rows x 5 columns]"
      ]
     },
     "execution_count": 10,
     "metadata": {},
     "output_type": "execute_result"
    }
   ],
   "source": [
    "start_date=\"2015-07-1\"\n",
    "end_date=\"2017-12-31\"\n",
    "\n",
    "Date = pd.date_range(start_date, end_date)\n",
    "\n",
    "df=pd.DataFrame(index=Date)\n",
    "\n",
    "df = pd.concat([dfAAPL, dfAMZN, dfEXC, dfNDAQ, dfRGLD], axis=1)\n",
    "df = df.dropna()\n",
    "df = df[['AAPL', 'AMZN', 'EXC', 'NDAQ', 'RGLD']]\n",
    "\n",
    "df"
   ]
  },
  {
   "cell_type": "markdown",
   "metadata": {},
   "source": [
    "# Visualize the Data\n",
    "\n",
    "We will now plot the data from the DataFrame that we created to visualize the progress."
   ]
  },
  {
   "cell_type": "code",
   "execution_count": 12,
   "metadata": {},
   "outputs": [
    {
     "data": {
      "image/png": "[encoded data removed]",
      "text/plain": [
       "<Figure size 432x288 with 1 Axes>"
      ]
     },
     "metadata": {
      "needs_background": "light"
     },
     "output_type": "display_data"
    }
   ],
   "source": [
    "def plot_data(df, title=\"Stock prices\"):\n",
    "    \"\"\"Plot stock prices with a custom title and meaningful axis labels.\"\"\"\n",
    "    ax = df.plot(title=title, fontsize=12)\n",
    "    ax.set_xlabel(\"Date\")\n",
    "    ax.set_ylabel(\"Price\")\n",
    "    plt.show()\n",
    "    \n",
    "plot_data(df)"
   ]
  },
  {
   "cell_type": "markdown",
   "metadata": {},
   "source": [
    "# Normalize the Data\n",
    "\n",
    "Since the stocks trade at significantly different prices, it is hard to make a fair comparison. We will make them all \n",
    "begin at one fair point so that the comparison is on an equal footing. We will achieve this using data normalization. We will normalize price data, so that each value begins at 1."
   ]
  },
  {
   "cell_type": "code",
   "execution_count": 13,
   "metadata": {},
   "outputs": [
    {
     "data": {
      "text/html": [
       "<div>\n",
       "<style scoped>\n",
       "    .dataframe tbody tr th:only-of-type {\n",
       "        vertical-align: middle;\n",
       "    }\n",
       "\n",
       "    .dataframe tbody tr th {\n",
       "        vertical-align: top;\n",
       "    }\n",
       "\n",
       "    .dataframe thead th {\n",
       "        text-align: right;\n",
       "    }\n",
       "</style>\n",
       "<table border=\"1\" class=\"dataframe\">\n",
       "  <thead>\n",
       "    <tr style=\"text-align: right;\">\n",
       "      <th></th>\n",
       "      <th>AAPL</th>\n",
       "      <th>AMZN</th>\n",
       "      <th>EXC</th>\n",
       "      <th>NDAQ</th>\n",
       "      <th>RGLD</th>\n",
       "    </tr>\n",
       "    <tr>\n",
       "      <th>Date</th>\n",
       "      <th></th>\n",
       "      <th></th>\n",
       "      <th></th>\n",
       "      <th></th>\n",
       "      <th></th>\n",
       "    </tr>\n",
       "  </thead>\n",
       "  <tbody>\n",
       "    <tr>\n",
       "      <th>2015-07-01</th>\n",
       "      <td>1.000000</td>\n",
       "      <td>1.000000</td>\n",
       "      <td>1.000000</td>\n",
       "      <td>1.000000</td>\n",
       "      <td>1.000000</td>\n",
       "    </tr>\n",
       "    <tr>\n",
       "      <th>2015-07-02</th>\n",
       "      <td>0.998736</td>\n",
       "      <td>1.000732</td>\n",
       "      <td>1.010085</td>\n",
       "      <td>1.008622</td>\n",
       "      <td>1.020803</td>\n",
       "    </tr>\n",
       "    <tr>\n",
       "      <th>2015-07-06</th>\n",
       "      <td>0.995261</td>\n",
       "      <td>0.996914</td>\n",
       "      <td>1.006618</td>\n",
       "      <td>1.001026</td>\n",
       "      <td>1.038903</td>\n",
       "    </tr>\n",
       "    <tr>\n",
       "      <th>2015-07-07</th>\n",
       "      <td>0.992812</td>\n",
       "      <td>0.998468</td>\n",
       "      <td>1.032777</td>\n",
       "      <td>1.002669</td>\n",
       "      <td>1.009500</td>\n",
       "    </tr>\n",
       "    <tr>\n",
       "      <th>2015-07-08</th>\n",
       "      <td>0.968167</td>\n",
       "      <td>0.982418</td>\n",
       "      <td>1.027419</td>\n",
       "      <td>0.982550</td>\n",
       "      <td>1.011712</td>\n",
       "    </tr>\n",
       "  </tbody>\n",
       "</table>\n",
       "</div>"
      ],
      "text/plain": [
       "                AAPL      AMZN       EXC      NDAQ      RGLD\n",
       "Date                                                        \n",
       "2015-07-01  1.000000  1.000000  1.000000  1.000000  1.000000\n",
       "2015-07-02  0.998736  1.000732  1.010085  1.008622  1.020803\n",
       "2015-07-06  0.995261  0.996914  1.006618  1.001026  1.038903\n",
       "2015-07-07  0.992812  0.998468  1.032777  1.002669  1.009500\n",
       "2015-07-08  0.968167  0.982418  1.027419  0.982550  1.011712"
      ]
     },
     "execution_count": 13,
     "metadata": {},
     "output_type": "execute_result"
    }
   ],
   "source": [
    "def normalize_data(df):\n",
    "    df = df/df.iloc[0, :]\n",
    "    return df\n",
    "df = normalize_data(df)\n",
    "df.head()"
   ]
  },
  {
   "cell_type": "markdown",
   "metadata": {},
   "source": [
    "# Plot Normalized Data\n",
    "\n",
    "On plotting this normalized data, we will find that the stocks movement is relatively closer together. Hence we can\n",
    "make a fair comparison."
   ]
  },
  {
   "cell_type": "code",
   "execution_count": 14,
   "metadata": {},
   "outputs": [
    {
     "data": {
      "image/png": "[encoded data removed]",
      "text/plain": [
       "<Figure size 432x288 with 1 Axes>"
      ]
     },
     "metadata": {
      "needs_background": "light"
     },
     "output_type": "display_data"
    }
   ],
   "source": [
    "plot_data(df)"
   ]
  },
  {
   "cell_type": "code",
   "execution_count": 15,
   "metadata": {},
   "outputs": [
    {
     "data": {
      "text/html": [
       "<style>\n",
       "table {float:left}\n",
       "</style>\n"
      ],
      "text/plain": [
       "<IPython.core.display.HTML object>"
      ]
     },
     "metadata": {},
     "output_type": "display_data"
    }
   ],
   "source": [
    "%%html\n",
    "<style>\n",
    "table {float:left}\n",
    "</style>"
   ]
  },
  {
   "cell_type": "markdown",
   "metadata": {},
   "source": [
    "# Create a Portfolio\n",
    "\n",
    "We will now use an investment value and assign weights to each stock in the portfolio.\n",
    "\n",
    "Assuming the ***investment value is $10,000*** and we assign weightages in the following order:\n",
    "\n",
    "Stock | Weights\n",
    ":--- | :---\n",
    "Apple|25%\n",
    "Amazon|25%\n",
    "Exelon Corporation| 10%\n",
    "Nasdaq| 30%\n",
    "Royal Gold Inc.| 10%"
   ]
  },
  {
   "cell_type": "markdown",
   "metadata": {},
   "source": [
    "The cell below returns allocated weights for each stock price."
   ]
  },
  {
   "cell_type": "code",
   "execution_count": 16,
   "metadata": {},
   "outputs": [
    {
     "data": {
      "text/html": [
       "<div>\n",
       "<style scoped>\n",
       "    .dataframe tbody tr th:only-of-type {\n",
       "        vertical-align: middle;\n",
       "    }\n",
       "\n",
       "    .dataframe tbody tr th {\n",
       "        vertical-align: top;\n",
       "    }\n",
       "\n",
       "    .dataframe thead th {\n",
       "        text-align: right;\n",
       "    }\n",
       "</style>\n",
       "<table border=\"1\" class=\"dataframe\">\n",
       "  <thead>\n",
       "    <tr style=\"text-align: right;\">\n",
       "      <th></th>\n",
       "      <th>AAPL</th>\n",
       "      <th>AMZN</th>\n",
       "      <th>EXC</th>\n",
       "      <th>NDAQ</th>\n",
       "      <th>RGLD</th>\n",
       "    </tr>\n",
       "    <tr>\n",
       "      <th>Date</th>\n",
       "      <th></th>\n",
       "      <th></th>\n",
       "      <th></th>\n",
       "      <th></th>\n",
       "      <th></th>\n",
       "    </tr>\n",
       "  </thead>\n",
       "  <tbody>\n",
       "    <tr>\n",
       "      <th>2015-07-01</th>\n",
       "      <td>0.250000</td>\n",
       "      <td>0.250000</td>\n",
       "      <td>0.100000</td>\n",
       "      <td>0.300000</td>\n",
       "      <td>0.100000</td>\n",
       "    </tr>\n",
       "    <tr>\n",
       "      <th>2015-07-02</th>\n",
       "      <td>0.249684</td>\n",
       "      <td>0.250183</td>\n",
       "      <td>0.101009</td>\n",
       "      <td>0.302587</td>\n",
       "      <td>0.102080</td>\n",
       "    </tr>\n",
       "    <tr>\n",
       "      <th>2015-07-06</th>\n",
       "      <td>0.248815</td>\n",
       "      <td>0.249228</td>\n",
       "      <td>0.100662</td>\n",
       "      <td>0.300308</td>\n",
       "      <td>0.103890</td>\n",
       "    </tr>\n",
       "    <tr>\n",
       "      <th>2015-07-07</th>\n",
       "      <td>0.248203</td>\n",
       "      <td>0.249617</td>\n",
       "      <td>0.103278</td>\n",
       "      <td>0.300801</td>\n",
       "      <td>0.100950</td>\n",
       "    </tr>\n",
       "    <tr>\n",
       "      <th>2015-07-08</th>\n",
       "      <td>0.242042</td>\n",
       "      <td>0.245605</td>\n",
       "      <td>0.102742</td>\n",
       "      <td>0.294765</td>\n",
       "      <td>0.101171</td>\n",
       "    </tr>\n",
       "  </tbody>\n",
       "</table>\n",
       "</div>"
      ],
      "text/plain": [
       "                AAPL      AMZN       EXC      NDAQ      RGLD\n",
       "Date                                                        \n",
       "2015-07-01  0.250000  0.250000  0.100000  0.300000  0.100000\n",
       "2015-07-02  0.249684  0.250183  0.101009  0.302587  0.102080\n",
       "2015-07-06  0.248815  0.249228  0.100662  0.300308  0.103890\n",
       "2015-07-07  0.248203  0.249617  0.103278  0.300801  0.100950\n",
       "2015-07-08  0.242042  0.245605  0.102742  0.294765  0.101171"
      ]
     },
     "execution_count": 16,
     "metadata": {},
     "output_type": "execute_result"
    }
   ],
   "source": [
    "weight = {'AAPL':0.25, 'AMZN': 0.25, 'EXC': 0.1,'NDAQ': 0.3, 'RGLD': 0.1}\n",
    "\n",
    "def allocated_df():\n",
    "    df['AAPL']=df['AAPL']*weight['AAPL']\n",
    "    df['AMZN']=df['AMZN']*weight['AMZN']\n",
    "    df['EXC']=df['EXC']*weight['EXC']\n",
    "    df['NDAQ']=df['NDAQ']*weight['NDAQ']\n",
    "    df['RGLD']=df['RGLD']*weight['RGLD']\n",
    "    return df\n",
    "\n",
    "allocated_df().head()"
   ]
  },
  {
   "cell_type": "markdown",
   "metadata": {},
   "source": [
    "# Assign the Investment Amount\n",
    "\n",
    "The cell below assigns the investment amount with the weightage for each stock. We now get an extra column called ***Portfolio Val***\n",
    "which indicates the day/'s gain or loss for the entire invested amount."
   ]
  },
  {
   "cell_type": "code",
   "execution_count": 17,
   "metadata": {
    "scrolled": false
   },
   "outputs": [
    {
     "data": {
      "text/html": [
       "<div>\n",
       "<style scoped>\n",
       "    .dataframe tbody tr th:only-of-type {\n",
       "        vertical-align: middle;\n",
       "    }\n",
       "\n",
       "    .dataframe tbody tr th {\n",
       "        vertical-align: top;\n",
       "    }\n",
       "\n",
       "    .dataframe thead th {\n",
       "        text-align: right;\n",
       "    }\n",
       "</style>\n",
       "<table border=\"1\" class=\"dataframe\">\n",
       "  <thead>\n",
       "    <tr style=\"text-align: right;\">\n",
       "      <th></th>\n",
       "      <th>AAPL</th>\n",
       "      <th>AMZN</th>\n",
       "      <th>EXC</th>\n",
       "      <th>NDAQ</th>\n",
       "      <th>RGLD</th>\n",
       "      <th>Portfolio Val</th>\n",
       "    </tr>\n",
       "    <tr>\n",
       "      <th>Date</th>\n",
       "      <th></th>\n",
       "      <th></th>\n",
       "      <th></th>\n",
       "      <th></th>\n",
       "      <th></th>\n",
       "      <th></th>\n",
       "    </tr>\n",
       "  </thead>\n",
       "  <tbody>\n",
       "    <tr>\n",
       "      <th>2015-07-01</th>\n",
       "      <td>2500.000000</td>\n",
       "      <td>2500.000000</td>\n",
       "      <td>1000.000000</td>\n",
       "      <td>3000.000000</td>\n",
       "      <td>1000.000000</td>\n",
       "      <td>10000.000000</td>\n",
       "    </tr>\n",
       "    <tr>\n",
       "      <th>2015-07-02</th>\n",
       "      <td>2496.840442</td>\n",
       "      <td>2501.829031</td>\n",
       "      <td>1010.085093</td>\n",
       "      <td>3025.867378</td>\n",
       "      <td>1020.802621</td>\n",
       "      <td>10055.424566</td>\n",
       "    </tr>\n",
       "    <tr>\n",
       "      <th>2015-07-06</th>\n",
       "      <td>2488.151659</td>\n",
       "      <td>2492.283774</td>\n",
       "      <td>1006.618342</td>\n",
       "      <td>3003.079450</td>\n",
       "      <td>1038.902539</td>\n",
       "      <td>10029.035764</td>\n",
       "    </tr>\n",
       "    <tr>\n",
       "      <th>2015-07-07</th>\n",
       "      <td>2482.030016</td>\n",
       "      <td>2496.170466</td>\n",
       "      <td>1032.776552</td>\n",
       "      <td>3008.006569</td>\n",
       "      <td>1009.500410</td>\n",
       "      <td>10028.484013</td>\n",
       "    </tr>\n",
       "    <tr>\n",
       "      <th>2015-07-08</th>\n",
       "      <td>2420.418641</td>\n",
       "      <td>2456.046092</td>\n",
       "      <td>1027.418847</td>\n",
       "      <td>2947.649353</td>\n",
       "      <td>1011.711712</td>\n",
       "      <td>9863.244645</td>\n",
       "    </tr>\n",
       "    <tr>\n",
       "      <th>...</th>\n",
       "      <td>...</td>\n",
       "      <td>...</td>\n",
       "      <td>...</td>\n",
       "      <td>...</td>\n",
       "      <td>...</td>\n",
       "      <td>...</td>\n",
       "    </tr>\n",
       "    <tr>\n",
       "      <th>2017-12-22</th>\n",
       "      <td>3608.659917</td>\n",
       "      <td>6678.021903</td>\n",
       "      <td>1340.219995</td>\n",
       "      <td>4888.929875</td>\n",
       "      <td>1467.426587</td>\n",
       "      <td>17983.258276</td>\n",
       "    </tr>\n",
       "    <tr>\n",
       "      <th>2017-12-26</th>\n",
       "      <td>3517.108291</td>\n",
       "      <td>6726.033974</td>\n",
       "      <td>1333.348834</td>\n",
       "      <td>4891.499952</td>\n",
       "      <td>1485.905041</td>\n",
       "      <td>17953.896092</td>\n",
       "    </tr>\n",
       "    <tr>\n",
       "      <th>2017-12-27</th>\n",
       "      <td>3517.726883</td>\n",
       "      <td>6757.470450</td>\n",
       "      <td>1339.532879</td>\n",
       "      <td>4904.992859</td>\n",
       "      <td>1470.308547</td>\n",
       "      <td>17990.031618</td>\n",
       "    </tr>\n",
       "    <tr>\n",
       "      <th>2017-12-28</th>\n",
       "      <td>3527.624356</td>\n",
       "      <td>6779.418825</td>\n",
       "      <td>1350.183179</td>\n",
       "      <td>4926.195998</td>\n",
       "      <td>1390.969864</td>\n",
       "      <td>17974.392222</td>\n",
       "    </tr>\n",
       "    <tr>\n",
       "      <th>2017-12-29</th>\n",
       "      <td>3489.477845</td>\n",
       "      <td>6684.366355</td>\n",
       "      <td>1353.962318</td>\n",
       "      <td>4936.476308</td>\n",
       "      <td>1392.156554</td>\n",
       "      <td>17856.439380</td>\n",
       "    </tr>\n",
       "  </tbody>\n",
       "</table>\n",
       "<p>629 rows × 6 columns</p>\n",
       "</div>"
      ],
      "text/plain": [
       "                   AAPL         AMZN          EXC         NDAQ         RGLD  \\\n",
       "Date                                                                          \n",
       "2015-07-01  2500.000000  2500.000000  1000.000000  3000.000000  1000.000000   \n",
       "2015-07-02  2496.840442  2501.829031  1010.085093  3025.867378  1020.802621   \n",
       "2015-07-06  2488.151659  2492.283774  1006.618342  3003.079450  1038.902539   \n",
       "2015-07-07  2482.030016  2496.170466  1032.776552  3008.006569  1009.500410   \n",
       "2015-07-08  2420.418641  2456.046092  1027.418847  2947.649353  1011.711712   \n",
       "...                 ...          ...          ...          ...          ...   \n",
       "2017-12-22  3608.659917  6678.021903  1340.219995  4888.929875  1467.426587   \n",
       "2017-12-26  3517.108291  6726.033974  1333.348834  4891.499952  1485.905041   \n",
       "2017-12-27  3517.726883  6757.470450  1339.532879  4904.992859  1470.308547   \n",
       "2017-12-28  3527.624356  6779.418825  1350.183179  4926.195998  1390.969864   \n",
       "2017-12-29  3489.477845  6684.366355  1353.962318  4936.476308  1392.156554   \n",
       "\n",
       "            Portfolio Val  \n",
       "Date                       \n",
       "2015-07-01   10000.000000  \n",
       "2015-07-02   10055.424566  \n",
       "2015-07-06   10029.035764  \n",
       "2015-07-07   10028.484013  \n",
       "2015-07-08    9863.244645  \n",
       "...                   ...  \n",
       "2017-12-22   17983.258276  \n",
       "2017-12-26   17953.896092  \n",
       "2017-12-27   17990.031618  \n",
       "2017-12-28   17974.392222  \n",
       "2017-12-29   17856.439380  \n",
       "\n",
       "[629 rows x 6 columns]"
      ]
     },
     "execution_count": 17,
     "metadata": {},
     "output_type": "execute_result"
    }
   ],
   "source": [
    "investment_value=10000\n",
    "portfolio = ['AAPL', 'AMZN', 'EXC', 'NDAQ', 'RGLD']\n",
    "df = df*investment_value\n",
    "df[\"Portfolio Val\"] = df[portfolio].sum(axis=1)\n",
    "df"
   ]
  },
  {
   "cell_type": "code",
   "execution_count": 18,
   "metadata": {},
   "outputs": [
    {
     "data": {
      "text/html": [
       "<div>\n",
       "<style scoped>\n",
       "    .dataframe tbody tr th:only-of-type {\n",
       "        vertical-align: middle;\n",
       "    }\n",
       "\n",
       "    .dataframe tbody tr th {\n",
       "        vertical-align: top;\n",
       "    }\n",
       "\n",
       "    .dataframe thead th {\n",
       "        text-align: right;\n",
       "    }\n",
       "</style>\n",
       "<table border=\"1\" class=\"dataframe\">\n",
       "  <thead>\n",
       "    <tr style=\"text-align: right;\">\n",
       "      <th></th>\n",
       "      <th>AAPL</th>\n",
       "      <th>AMZN</th>\n",
       "      <th>EXC</th>\n",
       "      <th>NDAQ</th>\n",
       "      <th>RGLD</th>\n",
       "      <th>Portfolio Val</th>\n",
       "    </tr>\n",
       "  </thead>\n",
       "  <tbody>\n",
       "    <tr>\n",
       "      <th>count</th>\n",
       "      <td>629.000000</td>\n",
       "      <td>629.000000</td>\n",
       "      <td>629.000000</td>\n",
       "      <td>629.000000</td>\n",
       "      <td>629.000000</td>\n",
       "      <td>629.000000</td>\n",
       "    </tr>\n",
       "    <tr>\n",
       "      <th>mean</th>\n",
       "      <td>2535.721572</td>\n",
       "      <td>4451.436411</td>\n",
       "      <td>1138.981482</td>\n",
       "      <td>4148.425086</td>\n",
       "      <td>1099.031372</td>\n",
       "      <td>13373.595923</td>\n",
       "    </tr>\n",
       "    <tr>\n",
       "      <th>std</th>\n",
       "      <td>507.187034</td>\n",
       "      <td>1065.309928</td>\n",
       "      <td>141.148745</td>\n",
       "      <td>517.074148</td>\n",
       "      <td>289.779223</td>\n",
       "      <td>2352.693243</td>\n",
       "    </tr>\n",
       "    <tr>\n",
       "      <th>min</th>\n",
       "      <td>1820.478525</td>\n",
       "      <td>2456.046092</td>\n",
       "      <td>818.741340</td>\n",
       "      <td>2947.649353</td>\n",
       "      <td>419.438576</td>\n",
       "      <td>9500.286457</td>\n",
       "    </tr>\n",
       "    <tr>\n",
       "      <th>25%</th>\n",
       "      <td>2166.288949</td>\n",
       "      <td>3577.470907</td>\n",
       "      <td>1038.655613</td>\n",
       "      <td>3852.466429</td>\n",
       "      <td>842.419570</td>\n",
       "      <td>11281.620234</td>\n",
       "    </tr>\n",
       "    <tr>\n",
       "      <th>50%</th>\n",
       "      <td>2345.850303</td>\n",
       "      <td>4382.644779</td>\n",
       "      <td>1145.657948</td>\n",
       "      <td>4243.404754</td>\n",
       "      <td>1146.820239</td>\n",
       "      <td>13302.268737</td>\n",
       "    </tr>\n",
       "    <tr>\n",
       "      <th>75%</th>\n",
       "      <td>2979.011651</td>\n",
       "      <td>5420.962985</td>\n",
       "      <td>1219.646102</td>\n",
       "      <td>4485.868853</td>\n",
       "      <td>1342.920516</td>\n",
       "      <td>15365.576956</td>\n",
       "    </tr>\n",
       "    <tr>\n",
       "      <th>max</th>\n",
       "      <td>3637.733744</td>\n",
       "      <td>6835.032808</td>\n",
       "      <td>1456.342620</td>\n",
       "      <td>5093.251034</td>\n",
       "      <td>1593.197851</td>\n",
       "      <td>18309.025416</td>\n",
       "    </tr>\n",
       "  </tbody>\n",
       "</table>\n",
       "</div>"
      ],
      "text/plain": [
       "              AAPL         AMZN          EXC         NDAQ         RGLD  \\\n",
       "count   629.000000   629.000000   629.000000   629.000000   629.000000   \n",
       "mean   2535.721572  4451.436411  1138.981482  4148.425086  1099.031372   \n",
       "std     507.187034  1065.309928   141.148745   517.074148   289.779223   \n",
       "min    1820.478525  2456.046092   818.741340  2947.649353   419.438576   \n",
       "25%    2166.288949  3577.470907  1038.655613  3852.466429   842.419570   \n",
       "50%    2345.850303  4382.644779  1145.657948  4243.404754  1146.820239   \n",
       "75%    2979.011651  5420.962985  1219.646102  4485.868853  1342.920516   \n",
       "max    3637.733744  6835.032808  1456.342620  5093.251034  1593.197851   \n",
       "\n",
       "       Portfolio Val  \n",
       "count     629.000000  \n",
       "mean    13373.595923  \n",
       "std      2352.693243  \n",
       "min      9500.286457  \n",
       "25%     11281.620234  \n",
       "50%     13302.268737  \n",
       "75%     15365.576956  \n",
       "max     18309.025416  "
      ]
     },
     "execution_count": 18,
     "metadata": {},
     "output_type": "execute_result"
    }
   ],
   "source": [
    "df.describe()"
   ]
  },
  {
   "cell_type": "markdown",
   "metadata": {},
   "source": [
    "# Write the Data to a CSV File\n",
    "\n",
    "We will now write this data to a csv file titled *portfolio.csv*."
   ]
  },
  {
   "cell_type": "code",
   "execution_count": 15,
   "metadata": {},
   "outputs": [],
   "source": [
    "df.to_csv('portfolio.csv', sep='\\t', encoding='utf-8')"
   ]
  },
  {
   "cell_type": "markdown",
   "metadata": {},
   "source": [
    "# Capital Asset Pricing Model: Regression Analysis\n",
    "\n",
    "\n",
    "## ${r}_{p}(t) = {\\beta}_{p}{r}_{m}(t) + {\\alpha}_{p}(t) $\n",
    "\n",
    "In formal financial language, the regression model is the same as the Capital Asset Pricing Model (CAPM) equation where: <br />\n",
    "\n",
    "${r}_{p}(t)$: Return on portfolio for a given day *t* <br />\n",
    "${\\beta}_{p}$: Co-efficient <br />\n",
    "${r}_{m}$: Market returns; viz S&P 500 values <br />\n",
    "${\\alpha}_{p}(t)$: Intercept <br />\n",
    "\n",
    "The CAPM emphasizes that the return on any stock or portfolio is due to the markets. This is why ${r}_{m}(t)$ is the independent x-variable in this equation. Since we are predicting the returns on the portfolio value, it is the dependent y-variable in this equation, represented by ${r}_{p}(t)$."
   ]
  },
  {
   "cell_type": "markdown",
   "metadata": {},
   "source": [
    "# Create a New Dataframe for the Model Variables\n",
    "\n",
    "We will now read in the csv file containing the portfolio returns. We will use this data regarding the daily portfolio returns as the dependent variable in our Regression Model."
   ]
  },
  {
   "cell_type": "code",
   "execution_count": 16,
   "metadata": {
    "scrolled": true
   },
   "outputs": [
    {
     "data": {
      "text/html": [
       "<div>\n",
       "<style scoped>\n",
       "    .dataframe tbody tr th:only-of-type {\n",
       "        vertical-align: middle;\n",
       "    }\n",
       "\n",
       "    .dataframe tbody tr th {\n",
       "        vertical-align: top;\n",
       "    }\n",
       "\n",
       "    .dataframe thead th {\n",
       "        text-align: right;\n",
       "    }\n",
       "</style>\n",
       "<table border=\"1\" class=\"dataframe\">\n",
       "  <thead>\n",
       "    <tr style=\"text-align: right;\">\n",
       "      <th></th>\n",
       "      <th>AAPL</th>\n",
       "      <th>AMZN</th>\n",
       "      <th>EXC</th>\n",
       "      <th>NDAQ</th>\n",
       "      <th>RGLD</th>\n",
       "      <th>Portfolio Val</th>\n",
       "    </tr>\n",
       "    <tr>\n",
       "      <th>Date</th>\n",
       "      <th></th>\n",
       "      <th></th>\n",
       "      <th></th>\n",
       "      <th></th>\n",
       "      <th></th>\n",
       "      <th></th>\n",
       "    </tr>\n",
       "  </thead>\n",
       "  <tbody>\n",
       "    <tr>\n",
       "      <th>2015-07-01</th>\n",
       "      <td>2500.000000</td>\n",
       "      <td>2500.000000</td>\n",
       "      <td>1000.000000</td>\n",
       "      <td>3000.000000</td>\n",
       "      <td>1000.000000</td>\n",
       "      <td>10000.000000</td>\n",
       "    </tr>\n",
       "    <tr>\n",
       "      <th>2015-07-02</th>\n",
       "      <td>2496.840442</td>\n",
       "      <td>2501.829031</td>\n",
       "      <td>1010.085093</td>\n",
       "      <td>3025.867378</td>\n",
       "      <td>1020.802621</td>\n",
       "      <td>10055.424566</td>\n",
       "    </tr>\n",
       "    <tr>\n",
       "      <th>2015-07-06</th>\n",
       "      <td>2488.151659</td>\n",
       "      <td>2492.283774</td>\n",
       "      <td>1006.618342</td>\n",
       "      <td>3003.079450</td>\n",
       "      <td>1038.902539</td>\n",
       "      <td>10029.035764</td>\n",
       "    </tr>\n",
       "    <tr>\n",
       "      <th>2015-07-07</th>\n",
       "      <td>2482.030016</td>\n",
       "      <td>2496.170466</td>\n",
       "      <td>1032.776552</td>\n",
       "      <td>3008.006569</td>\n",
       "      <td>1009.500410</td>\n",
       "      <td>10028.484013</td>\n",
       "    </tr>\n",
       "    <tr>\n",
       "      <th>2015-07-08</th>\n",
       "      <td>2420.418641</td>\n",
       "      <td>2456.046092</td>\n",
       "      <td>1027.418847</td>\n",
       "      <td>2947.649353</td>\n",
       "      <td>1011.711712</td>\n",
       "      <td>9863.244645</td>\n",
       "    </tr>\n",
       "    <tr>\n",
       "      <th>...</th>\n",
       "      <td>...</td>\n",
       "      <td>...</td>\n",
       "      <td>...</td>\n",
       "      <td>...</td>\n",
       "      <td>...</td>\n",
       "      <td>...</td>\n",
       "    </tr>\n",
       "    <tr>\n",
       "      <th>2017-12-22</th>\n",
       "      <td>3608.659917</td>\n",
       "      <td>6678.021903</td>\n",
       "      <td>1340.219995</td>\n",
       "      <td>4888.929875</td>\n",
       "      <td>1467.426587</td>\n",
       "      <td>17983.258276</td>\n",
       "    </tr>\n",
       "    <tr>\n",
       "      <th>2017-12-26</th>\n",
       "      <td>3517.108291</td>\n",
       "      <td>6726.033974</td>\n",
       "      <td>1333.348834</td>\n",
       "      <td>4891.499952</td>\n",
       "      <td>1485.905041</td>\n",
       "      <td>17953.896092</td>\n",
       "    </tr>\n",
       "    <tr>\n",
       "      <th>2017-12-27</th>\n",
       "      <td>3517.726883</td>\n",
       "      <td>6757.470450</td>\n",
       "      <td>1339.532879</td>\n",
       "      <td>4904.992859</td>\n",
       "      <td>1470.308547</td>\n",
       "      <td>17990.031618</td>\n",
       "    </tr>\n",
       "    <tr>\n",
       "      <th>2017-12-28</th>\n",
       "      <td>3527.624356</td>\n",
       "      <td>6779.418825</td>\n",
       "      <td>1350.183179</td>\n",
       "      <td>4926.195998</td>\n",
       "      <td>1390.969864</td>\n",
       "      <td>17974.392222</td>\n",
       "    </tr>\n",
       "    <tr>\n",
       "      <th>2017-12-29</th>\n",
       "      <td>3489.477845</td>\n",
       "      <td>6684.366355</td>\n",
       "      <td>1353.962318</td>\n",
       "      <td>4936.476308</td>\n",
       "      <td>1392.156554</td>\n",
       "      <td>17856.439380</td>\n",
       "    </tr>\n",
       "  </tbody>\n",
       "</table>\n",
       "<p>629 rows × 6 columns</p>\n",
       "</div>"
      ],
      "text/plain": [
       "                   AAPL         AMZN          EXC         NDAQ         RGLD  \\\n",
       "Date                                                                          \n",
       "2015-07-01  2500.000000  2500.000000  1000.000000  3000.000000  1000.000000   \n",
       "2015-07-02  2496.840442  2501.829031  1010.085093  3025.867378  1020.802621   \n",
       "2015-07-06  2488.151659  2492.283774  1006.618342  3003.079450  1038.902539   \n",
       "2015-07-07  2482.030016  2496.170466  1032.776552  3008.006569  1009.500410   \n",
       "2015-07-08  2420.418641  2456.046092  1027.418847  2947.649353  1011.711712   \n",
       "...                 ...          ...          ...          ...          ...   \n",
       "2017-12-22  3608.659917  6678.021903  1340.219995  4888.929875  1467.426587   \n",
       "2017-12-26  3517.108291  6726.033974  1333.348834  4891.499952  1485.905041   \n",
       "2017-12-27  3517.726883  6757.470450  1339.532879  4904.992859  1470.308547   \n",
       "2017-12-28  3527.624356  6779.418825  1350.183179  4926.195998  1390.969864   \n",
       "2017-12-29  3489.477845  6684.366355  1353.962318  4936.476308  1392.156554   \n",
       "\n",
       "            Portfolio Val  \n",
       "Date                       \n",
       "2015-07-01   10000.000000  \n",
       "2015-07-02   10055.424566  \n",
       "2015-07-06   10029.035764  \n",
       "2015-07-07   10028.484013  \n",
       "2015-07-08    9863.244645  \n",
       "...                   ...  \n",
       "2017-12-22   17983.258276  \n",
       "2017-12-26   17953.896092  \n",
       "2017-12-27   17990.031618  \n",
       "2017-12-28   17974.392222  \n",
       "2017-12-29   17856.439380  \n",
       "\n",
       "[629 rows x 6 columns]"
      ]
     },
     "execution_count": 16,
     "metadata": {},
     "output_type": "execute_result"
    }
   ],
   "source": [
    "dfXY = pd.read_csv(\"portfolio.csv\", sep='\\t')\n",
    "dfXY.set_index('Date')"
   ]
  },
  {
   "cell_type": "markdown",
   "metadata": {},
   "source": [
    "# Clean and Process S&P 500 data\n",
    "\n",
    "As mentioned above, the independent variable comes from the S&P 500 data which we will read from the csv file *S&P500.csv*.\n",
    "\n"
   ]
  },
  {
   "cell_type": "code",
   "execution_count": 17,
   "metadata": {},
   "outputs": [],
   "source": [
    "data = pd.read_csv(\"S&P500.csv\")\n",
    "data['Date']  # as a Series\n",
    "date_array = data['Date'].values  # as a numpy array"
   ]
  },
  {
   "cell_type": "code",
   "execution_count": 18,
   "metadata": {},
   "outputs": [
    {
     "data": {
      "text/html": [
       "<div>\n",
       "<style scoped>\n",
       "    .dataframe tbody tr th:only-of-type {\n",
       "        vertical-align: middle;\n",
       "    }\n",
       "\n",
       "    .dataframe tbody tr th {\n",
       "        vertical-align: top;\n",
       "    }\n",
       "\n",
       "    .dataframe thead th {\n",
       "        text-align: right;\n",
       "    }\n",
       "</style>\n",
       "<table border=\"1\" class=\"dataframe\">\n",
       "  <thead>\n",
       "    <tr style=\"text-align: right;\">\n",
       "      <th></th>\n",
       "    </tr>\n",
       "    <tr>\n",
       "      <th>Date</th>\n",
       "    </tr>\n",
       "  </thead>\n",
       "  <tbody>\n",
       "    <tr>\n",
       "      <th>2018-03-29</th>\n",
       "    </tr>\n",
       "    <tr>\n",
       "      <th>2018-03-28</th>\n",
       "    </tr>\n",
       "    <tr>\n",
       "      <th>2018-03-27</th>\n",
       "    </tr>\n",
       "    <tr>\n",
       "      <th>2018-03-26</th>\n",
       "    </tr>\n",
       "    <tr>\n",
       "      <th>2018-03-23</th>\n",
       "    </tr>\n",
       "    <tr>\n",
       "      <th>...</th>\n",
       "    </tr>\n",
       "    <tr>\n",
       "      <th>2015-07-08</th>\n",
       "    </tr>\n",
       "    <tr>\n",
       "      <th>2015-07-07</th>\n",
       "    </tr>\n",
       "    <tr>\n",
       "      <th>2015-07-06</th>\n",
       "    </tr>\n",
       "    <tr>\n",
       "      <th>2015-07-02</th>\n",
       "    </tr>\n",
       "    <tr>\n",
       "      <th>2015-07-01</th>\n",
       "    </tr>\n",
       "  </tbody>\n",
       "</table>\n",
       "<p>692 rows × 0 columns</p>\n",
       "</div>"
      ],
      "text/plain": [
       "Empty DataFrame\n",
       "Columns: []\n",
       "Index: [2018-03-29, 2018-03-28, 2018-03-27, 2018-03-26, 2018-03-23, 2018-03-22, 2018-03-21, 2018-03-20, 2018-03-19, 2018-03-16, 2018-03-15, 2018-03-14, 2018-03-13, 2018-03-12, 2018-03-09, 2018-03-08, 2018-03-07, 2018-03-06, 2018-03-05, 2018-03-02, 2018-03-01, 2018-02-28, 2018-02-27, 2018-02-26, 2018-02-23, 2018-02-22, 2018-02-21, 2018-02-20, 2018-02-16, 2018-02-15, 2018-02-14, 2018-02-13, 2018-02-12, 2018-02-09, 2018-02-08, 2018-02-07, 2018-02-06, 2018-02-05, 2018-02-02, 2018-02-01, 2018-01-31, 2018-01-30, 2018-01-29, 2018-01-26, 2018-01-25, 2018-01-24, 2018-01-23, 2018-01-22, 2018-01-19, 2018-01-18, 2018-01-17, 2018-01-16, 2018-01-12, 2018-01-11, 2018-01-10, 2018-01-09, 2018-01-08, 2018-01-05, 2018-01-04, 2018-01-03, 2018-01-02, 2017-12-29, 2017-12-28, 2017-12-27, 2017-12-26, 2017-12-22, 2017-12-21, 2017-12-20, 2017-12-19, 2017-12-18, 2017-12-15, 2017-12-14, 2017-12-13, 2017-12-12, 2017-12-11, 2017-12-08, 2017-12-07, 2017-12-06, 2017-12-05, 2017-12-04, 2017-12-01, 2017-11-30, 2017-11-29, 2017-11-28, 2017-11-27, 2017-11-24, 2017-11-22, 2017-11-21, 2017-11-20, 2017-11-17, 2017-11-16, 2017-11-15, 2017-11-14, 2017-11-13, 2017-11-10, 2017-11-09, 2017-11-08, 2017-11-07, 2017-11-06, 2017-11-03, ...]\n",
       "\n",
       "[692 rows x 0 columns]"
      ]
     },
     "execution_count": 18,
     "metadata": {},
     "output_type": "execute_result"
    }
   ],
   "source": [
    "d_list = []\n",
    "for date in date_array:\n",
    "    dt = parse(date)\n",
    "    d_item = (str(dt.date()))    \n",
    "    d_list.append(d_item)\n",
    "dfDate = pd.DataFrame(d_list,columns=['Date'])\n",
    "dfDate.set_index('Date')"
   ]
  },
  {
   "cell_type": "code",
   "execution_count": 19,
   "metadata": {},
   "outputs": [],
   "source": [
    "dfSP500 = pd.read_csv(\"S&P500.csv\")\n",
    "dfSP500.set_index('Date')\n",
    "dfSP500 = dfSP500.rename(columns={'Price':'SP500', 'Date':'ODate'})\n",
    "for i, col in enumerate(dfSP500.columns):\n",
    "    dfSP500.iloc[:, i] = dfSP500.iloc[:, i].str.replace(',', '')\n",
    "    \n",
    "dfSP500 = dfSP500.join(dfDate)\n",
    "dfSP500 = dfSP500.dropna()\n",
    "dfSP500 = dfSP500[['Date', 'SP500']]\n",
    "dfSP500['SP500'] = dfSP500['SP500'].astype(float)\n",
    "dfSP500 = dfSP500[::-1]\n",
    "dfSP500.reset_index(inplace=True, drop=True)"
   ]
  },
  {
   "cell_type": "markdown",
   "metadata": {},
   "source": [
    "#### Append the Column Containing Market Return Values to the Variable Dataframe"
   ]
  },
  {
   "cell_type": "code",
   "execution_count": 20,
   "metadata": {},
   "outputs": [
    {
     "data": {
      "text/html": [
       "<div>\n",
       "<style scoped>\n",
       "    .dataframe tbody tr th:only-of-type {\n",
       "        vertical-align: middle;\n",
       "    }\n",
       "\n",
       "    .dataframe tbody tr th {\n",
       "        vertical-align: top;\n",
       "    }\n",
       "\n",
       "    .dataframe thead th {\n",
       "        text-align: right;\n",
       "    }\n",
       "</style>\n",
       "<table border=\"1\" class=\"dataframe\">\n",
       "  <thead>\n",
       "    <tr style=\"text-align: right;\">\n",
       "      <th></th>\n",
       "      <th>Date</th>\n",
       "      <th>Portfolio Val</th>\n",
       "      <th>SP500</th>\n",
       "    </tr>\n",
       "  </thead>\n",
       "  <tbody>\n",
       "    <tr>\n",
       "      <th>0</th>\n",
       "      <td>2015-07-01</td>\n",
       "      <td>10000.000000</td>\n",
       "      <td>2077.42</td>\n",
       "    </tr>\n",
       "    <tr>\n",
       "      <th>1</th>\n",
       "      <td>2015-07-02</td>\n",
       "      <td>10055.424566</td>\n",
       "      <td>2076.78</td>\n",
       "    </tr>\n",
       "    <tr>\n",
       "      <th>2</th>\n",
       "      <td>2015-07-06</td>\n",
       "      <td>10029.035764</td>\n",
       "      <td>2068.76</td>\n",
       "    </tr>\n",
       "    <tr>\n",
       "      <th>3</th>\n",
       "      <td>2015-07-07</td>\n",
       "      <td>10028.484013</td>\n",
       "      <td>2081.34</td>\n",
       "    </tr>\n",
       "    <tr>\n",
       "      <th>4</th>\n",
       "      <td>2015-07-08</td>\n",
       "      <td>9863.244645</td>\n",
       "      <td>2046.68</td>\n",
       "    </tr>\n",
       "    <tr>\n",
       "      <th>...</th>\n",
       "      <td>...</td>\n",
       "      <td>...</td>\n",
       "      <td>...</td>\n",
       "    </tr>\n",
       "    <tr>\n",
       "      <th>624</th>\n",
       "      <td>2017-12-20</td>\n",
       "      <td>17983.258276</td>\n",
       "      <td>2679.25</td>\n",
       "    </tr>\n",
       "    <tr>\n",
       "      <th>625</th>\n",
       "      <td>2017-12-21</td>\n",
       "      <td>17953.896092</td>\n",
       "      <td>2684.57</td>\n",
       "    </tr>\n",
       "    <tr>\n",
       "      <th>626</th>\n",
       "      <td>2017-12-22</td>\n",
       "      <td>17990.031618</td>\n",
       "      <td>2683.34</td>\n",
       "    </tr>\n",
       "    <tr>\n",
       "      <th>627</th>\n",
       "      <td>2017-12-26</td>\n",
       "      <td>17974.392222</td>\n",
       "      <td>2680.50</td>\n",
       "    </tr>\n",
       "    <tr>\n",
       "      <th>628</th>\n",
       "      <td>2017-12-27</td>\n",
       "      <td>17856.439380</td>\n",
       "      <td>2682.62</td>\n",
       "    </tr>\n",
       "  </tbody>\n",
       "</table>\n",
       "<p>629 rows × 3 columns</p>\n",
       "</div>"
      ],
      "text/plain": [
       "           Date  Portfolio Val    SP500\n",
       "0    2015-07-01   10000.000000  2077.42\n",
       "1    2015-07-02   10055.424566  2076.78\n",
       "2    2015-07-06   10029.035764  2068.76\n",
       "3    2015-07-07   10028.484013  2081.34\n",
       "4    2015-07-08    9863.244645  2046.68\n",
       "..          ...            ...      ...\n",
       "624  2017-12-20   17983.258276  2679.25\n",
       "625  2017-12-21   17953.896092  2684.57\n",
       "626  2017-12-22   17990.031618  2683.34\n",
       "627  2017-12-26   17974.392222  2680.50\n",
       "628  2017-12-27   17856.439380  2682.62\n",
       "\n",
       "[629 rows x 3 columns]"
      ]
     },
     "execution_count": 20,
     "metadata": {},
     "output_type": "execute_result"
    }
   ],
   "source": [
    "dfXY = dfXY.join(dfSP500, lsuffix='SP500')\n",
    "dfXY = dfXY.dropna()\n",
    "dfXY = dfXY[['Date', 'Portfolio Val', 'SP500']]\n",
    "dfXY['Portfolio Val'] = dfXY['Portfolio Val'].astype(float)\n",
    "dfXY"
   ]
  },
  {
   "cell_type": "markdown",
   "metadata": {},
   "source": [
    "# Run the Regression Analysis"
   ]
  },
  {
   "cell_type": "code",
   "execution_count": 21,
   "metadata": {},
   "outputs": [],
   "source": [
    "y = dfXY[[\"Portfolio Val\"]].to_numpy()\n",
    "x = dfXY[[\"SP500\"]].to_numpy()"
   ]
  },
  {
   "cell_type": "markdown",
   "metadata": {},
   "source": [
    "#### Plot Data on a Scatter-plot"
   ]
  },
  {
   "cell_type": "code",
   "execution_count": 22,
   "metadata": {},
   "outputs": [
    {
     "data": {
      "image/png": "[encoded data removed]",
      "text/plain": [
       "<Figure size 432x288 with 1 Axes>"
      ]
     },
     "metadata": {
      "needs_background": "light"
     },
     "output_type": "display_data"
    }
   ],
   "source": [
    "dfXY.plot(y='Portfolio Val', x='SP500', style='.', linestyle = ':')\n",
    "plt.title('SP500 vs. Portfolio Val')\n",
    "plt.xlabel('Portfolio Val')\n",
    "plt.ylabel('S&P500 - Market Val')\n",
    "plt.show()"
   ]
  },
  {
   "cell_type": "code",
   "execution_count": 23,
   "metadata": {},
   "outputs": [
    {
     "data": {
      "text/plain": [
       "(array([-11065.28056245]), array([[10.99550251]]))"
      ]
     },
     "execution_count": 23,
     "metadata": {},
     "output_type": "execute_result"
    }
   ],
   "source": [
    "x_train, x_test, y_train, y_test = train_test_split(x, y, test_size=0.2, random_state=0)"
   ]
  },
  {
   "cell_type": "markdown",
   "metadata": {},
   "source": [
    "### Linear Regression:"
   ]
  },
  {
   "cell_type": "code",
   "execution_count": 28,
   "metadata": {},
   "outputs": [
    {
     "data": {
      "text/plain": [
       "(array([-11065.28056245]), array([[10.99550251]]))"
      ]
     },
     "execution_count": 28,
     "metadata": {},
     "output_type": "execute_result"
    }
   ],
   "source": [
    "model = LinearRegression().fit(x_train, y_train)\n",
    "model.intercept_, model.coef_"
   ]
  },
  {
   "cell_type": "code",
   "execution_count": 29,
   "metadata": {},
   "outputs": [],
   "source": [
    "y_pred=model.predict(x_test)"
   ]
  },
  {
   "cell_type": "markdown",
   "metadata": {},
   "source": [
    "#### To compare the predicted values y_pred with the actual output values y_test we will execute this script:"
   ]
  },
  {
   "cell_type": "code",
   "execution_count": 25,
   "metadata": {},
   "outputs": [
    {
     "data": {
      "text/html": [
       "<div>\n",
       "<style scoped>\n",
       "    .dataframe tbody tr th:only-of-type {\n",
       "        vertical-align: middle;\n",
       "    }\n",
       "\n",
       "    .dataframe tbody tr th {\n",
       "        vertical-align: top;\n",
       "    }\n",
       "\n",
       "    .dataframe thead th {\n",
       "        text-align: right;\n",
       "    }\n",
       "</style>\n",
       "<table border=\"1\" class=\"dataframe\">\n",
       "  <thead>\n",
       "    <tr style=\"text-align: right;\">\n",
       "      <th></th>\n",
       "      <th>y_test</th>\n",
       "      <th>y_pred</th>\n",
       "      <th>difference</th>\n",
       "    </tr>\n",
       "  </thead>\n",
       "  <tbody>\n",
       "    <tr>\n",
       "      <th>0</th>\n",
       "      <td>11880.345449</td>\n",
       "      <td>11821.088231</td>\n",
       "      <td>59.257218</td>\n",
       "    </tr>\n",
       "    <tr>\n",
       "      <th>1</th>\n",
       "      <td>13544.718360</td>\n",
       "      <td>12682.036078</td>\n",
       "      <td>862.682283</td>\n",
       "    </tr>\n",
       "    <tr>\n",
       "      <th>2</th>\n",
       "      <td>15872.732578</td>\n",
       "      <td>15799.480950</td>\n",
       "      <td>73.251627</td>\n",
       "    </tr>\n",
       "    <tr>\n",
       "      <th>3</th>\n",
       "      <td>13639.776538</td>\n",
       "      <td>12972.647209</td>\n",
       "      <td>667.129328</td>\n",
       "    </tr>\n",
       "    <tr>\n",
       "      <th>4</th>\n",
       "      <td>13325.314189</td>\n",
       "      <td>13779.387229</td>\n",
       "      <td>-454.073040</td>\n",
       "    </tr>\n",
       "    <tr>\n",
       "      <th>...</th>\n",
       "      <td>...</td>\n",
       "      <td>...</td>\n",
       "      <td>...</td>\n",
       "    </tr>\n",
       "    <tr>\n",
       "      <th>121</th>\n",
       "      <td>13708.398660</td>\n",
       "      <td>12684.235178</td>\n",
       "      <td>1024.163482</td>\n",
       "    </tr>\n",
       "    <tr>\n",
       "      <th>122</th>\n",
       "      <td>10856.664474</td>\n",
       "      <td>10354.508106</td>\n",
       "      <td>502.156368</td>\n",
       "    </tr>\n",
       "    <tr>\n",
       "      <th>123</th>\n",
       "      <td>15157.826232</td>\n",
       "      <td>15290.059319</td>\n",
       "      <td>-132.233087</td>\n",
       "    </tr>\n",
       "    <tr>\n",
       "      <th>124</th>\n",
       "      <td>10190.723381</td>\n",
       "      <td>12048.915043</td>\n",
       "      <td>-1858.191662</td>\n",
       "    </tr>\n",
       "    <tr>\n",
       "      <th>125</th>\n",
       "      <td>13679.571030</td>\n",
       "      <td>12532.167379</td>\n",
       "      <td>1147.403651</td>\n",
       "    </tr>\n",
       "  </tbody>\n",
       "</table>\n",
       "<p>126 rows × 3 columns</p>\n",
       "</div>"
      ],
      "text/plain": [
       "           y_test        y_pred   difference\n",
       "0    11880.345449  11821.088231    59.257218\n",
       "1    13544.718360  12682.036078   862.682283\n",
       "2    15872.732578  15799.480950    73.251627\n",
       "3    13639.776538  12972.647209   667.129328\n",
       "4    13325.314189  13779.387229  -454.073040\n",
       "..            ...           ...          ...\n",
       "121  13708.398660  12684.235178  1024.163482\n",
       "122  10856.664474  10354.508106   502.156368\n",
       "123  15157.826232  15290.059319  -132.233087\n",
       "124  10190.723381  12048.915043 -1858.191662\n",
       "125  13679.571030  12532.167379  1147.403651\n",
       "\n",
       "[126 rows x 3 columns]"
      ]
     },
     "execution_count": 25,
     "metadata": {},
     "output_type": "execute_result"
    }
   ],
   "source": [
    "dfYt = pd.DataFrame(y_test, columns=['y_test'])\n",
    "dfYp = pd.DataFrame(y_pred, columns=['y_pred'])\n",
    "dfYt = dfYt.join(dfYp)\n",
    "dfYt['difference']=dfYt['y_test']-dfYt['y_pred']\n",
    "dfYt = dfYt[['y_test', 'y_pred', 'difference']]\n",
    "dfYt"
   ]
  },
  {
   "cell_type": "code",
   "execution_count": 26,
   "metadata": {},
   "outputs": [
    {
     "data": {
      "text/plain": [
       "(0.9379938138478567, 0.9186120233227241)"
      ]
     },
     "execution_count": 26,
     "metadata": {},
     "output_type": "execute_result"
    }
   ],
   "source": [
    "model.score(x_train, y_train), model.score(x_test, y_test)"
   ]
  },
  {
   "cell_type": "code",
   "execution_count": 27,
   "metadata": {},
   "outputs": [
    {
     "name": "stdout",
     "output_type": "stream",
     "text": [
      "Mean Absolute Error: 496.2985370004204\n",
      "Mean Squared Error: 435980.02522676234\n",
      "Root Mean Squared Error: 660.2878351346194\n"
     ]
    }
   ],
   "source": [
    "print('Mean Absolute Error:', metrics.mean_absolute_error(y_test, y_pred))\n",
    "print('Mean Squared Error:', metrics.mean_squared_error(y_test, y_pred))\n",
    "print('Root Mean Squared Error:', np.sqrt(metrics.mean_squared_error(y_test, y_pred)))"
   ]
  },
  {
   "cell_type": "markdown",
   "metadata": {},
   "source": [
    "### Gradient Boosting Regressor"
   ]
  },
  {
   "cell_type": "code",
   "execution_count": 36,
   "metadata": {},
   "outputs": [
    {
     "name": "stderr",
     "output_type": "stream",
     "text": [
      "/usr/local/lib/python3.7/site-packages/sklearn/utils/validation.py:63: DataConversionWarning: A column-vector y was passed when a 1d array was expected. Please change the shape of y to (n_samples, ), for example using ravel().\n",
      "  return f(*args, **kwargs)\n"
     ]
    },
    {
     "data": {
      "text/plain": [
       "(0.9802685280563921, 0.9386499868780175)"
      ]
     },
     "execution_count": 36,
     "metadata": {},
     "output_type": "execute_result"
    }
   ],
   "source": [
    "model = GradientBoostingRegressor(random_state=0).fit(x_train, y_train)\n",
    "model.score(x_train, y_train), model.score(x_test, y_test)"
   ]
  },
  {
   "cell_type": "code",
   "execution_count": 31,
   "metadata": {},
   "outputs": [],
   "source": [
    "y_pred=model.predict(x_test)"
   ]
  },
  {
   "cell_type": "markdown",
   "metadata": {},
   "source": [
    "#### To compare the predicted values y_pred with the actual output values y_test we will execute this script:"
   ]
  },
  {
   "cell_type": "code",
   "execution_count": 34,
   "metadata": {},
   "outputs": [
    {
     "data": {
      "text/html": [
       "<div>\n",
       "<style scoped>\n",
       "    .dataframe tbody tr th:only-of-type {\n",
       "        vertical-align: middle;\n",
       "    }\n",
       "\n",
       "    .dataframe tbody tr th {\n",
       "        vertical-align: top;\n",
       "    }\n",
       "\n",
       "    .dataframe thead th {\n",
       "        text-align: right;\n",
       "    }\n",
       "</style>\n",
       "<table border=\"1\" class=\"dataframe\">\n",
       "  <thead>\n",
       "    <tr style=\"text-align: right;\">\n",
       "      <th></th>\n",
       "      <th>y_test</th>\n",
       "      <th>y_pred</th>\n",
       "      <th>difference</th>\n",
       "    </tr>\n",
       "  </thead>\n",
       "  <tbody>\n",
       "    <tr>\n",
       "      <th>0</th>\n",
       "      <td>11880.345449</td>\n",
       "      <td>11209.469571</td>\n",
       "      <td>670.875878</td>\n",
       "    </tr>\n",
       "    <tr>\n",
       "      <th>1</th>\n",
       "      <td>13544.718360</td>\n",
       "      <td>13326.825326</td>\n",
       "      <td>217.893034</td>\n",
       "    </tr>\n",
       "    <tr>\n",
       "      <th>2</th>\n",
       "      <td>15872.732578</td>\n",
       "      <td>16270.708053</td>\n",
       "      <td>-397.975476</td>\n",
       "    </tr>\n",
       "    <tr>\n",
       "      <th>3</th>\n",
       "      <td>13639.776538</td>\n",
       "      <td>13392.524265</td>\n",
       "      <td>247.252273</td>\n",
       "    </tr>\n",
       "    <tr>\n",
       "      <th>4</th>\n",
       "      <td>13325.314189</td>\n",
       "      <td>13265.145379</td>\n",
       "      <td>60.168811</td>\n",
       "    </tr>\n",
       "    <tr>\n",
       "      <th>...</th>\n",
       "      <td>...</td>\n",
       "      <td>...</td>\n",
       "      <td>...</td>\n",
       "    </tr>\n",
       "    <tr>\n",
       "      <th>121</th>\n",
       "      <td>13708.398660</td>\n",
       "      <td>13326.825326</td>\n",
       "      <td>381.573334</td>\n",
       "    </tr>\n",
       "    <tr>\n",
       "      <th>122</th>\n",
       "      <td>10856.664474</td>\n",
       "      <td>10322.524762</td>\n",
       "      <td>534.139712</td>\n",
       "    </tr>\n",
       "    <tr>\n",
       "      <th>123</th>\n",
       "      <td>15157.826232</td>\n",
       "      <td>15227.599361</td>\n",
       "      <td>-69.773129</td>\n",
       "    </tr>\n",
       "    <tr>\n",
       "      <th>124</th>\n",
       "      <td>10190.723381</td>\n",
       "      <td>11418.269183</td>\n",
       "      <td>-1227.545802</td>\n",
       "    </tr>\n",
       "    <tr>\n",
       "      <th>125</th>\n",
       "      <td>13679.571030</td>\n",
       "      <td>13341.627303</td>\n",
       "      <td>337.943727</td>\n",
       "    </tr>\n",
       "  </tbody>\n",
       "</table>\n",
       "<p>126 rows × 3 columns</p>\n",
       "</div>"
      ],
      "text/plain": [
       "           y_test        y_pred   difference\n",
       "0    11880.345449  11209.469571   670.875878\n",
       "1    13544.718360  13326.825326   217.893034\n",
       "2    15872.732578  16270.708053  -397.975476\n",
       "3    13639.776538  13392.524265   247.252273\n",
       "4    13325.314189  13265.145379    60.168811\n",
       "..            ...           ...          ...\n",
       "121  13708.398660  13326.825326   381.573334\n",
       "122  10856.664474  10322.524762   534.139712\n",
       "123  15157.826232  15227.599361   -69.773129\n",
       "124  10190.723381  11418.269183 -1227.545802\n",
       "125  13679.571030  13341.627303   337.943727\n",
       "\n",
       "[126 rows x 3 columns]"
      ]
     },
     "execution_count": 34,
     "metadata": {},
     "output_type": "execute_result"
    }
   ],
   "source": [
    "dfYt = pd.DataFrame(y_test, columns=['y_test'])\n",
    "dfYp = pd.DataFrame(y_pred, columns=['y_pred'])\n",
    "dfYt = dfYt.join(dfYp)\n",
    "dfYt['difference']=dfYt['y_test']-dfYt['y_pred']\n",
    "dfYt = dfYt[['y_test', 'y_pred', 'difference']]\n",
    "dfYt"
   ]
  },
  {
   "cell_type": "code",
   "execution_count": 35,
   "metadata": {},
   "outputs": [
    {
     "name": "stdout",
     "output_type": "stream",
     "text": [
      "Mean Absolute Error: 379.3557580742907\n",
      "Mean Squared Error: 328640.43757524923\n",
      "Root Mean Squared Error: 573.2716961225709\n"
     ]
    }
   ],
   "source": [
    "print('Mean Absolute Error:', metrics.mean_absolute_error(y_test, y_pred))\n",
    "print('Mean Squared Error:', metrics.mean_squared_error(y_test, y_pred))\n",
    "print('Root Mean Squared Error:', np.sqrt(metrics.mean_squared_error(y_test, y_pred)))"
   ]
  },
  {
   "cell_type": "markdown",
   "metadata": {},
   "source": [
    "### Random Forest Regressor:"
   ]
  },
  {
   "cell_type": "code",
   "execution_count": 37,
   "metadata": {},
   "outputs": [
    {
     "name": "stderr",
     "output_type": "stream",
     "text": [
      "/usr/local/lib/python3.7/site-packages/ipykernel_launcher.py:1: DataConversionWarning: A column-vector y was passed when a 1d array was expected. Please change the shape of y to (n_samples,), for example using ravel().\n",
      "  \"\"\"Entry point for launching an IPython kernel.\n"
     ]
    },
    {
     "data": {
      "text/plain": [
       "(0.9929147480761011, 0.9291165110210328)"
      ]
     },
     "execution_count": 37,
     "metadata": {},
     "output_type": "execute_result"
    }
   ],
   "source": [
    "model = RandomForestRegressor(random_state=0).fit(x_train, y_train)\n",
    "model.score(x_train, y_train), model.score(x_test, y_test)"
   ]
  },
  {
   "cell_type": "code",
   "execution_count": 38,
   "metadata": {},
   "outputs": [],
   "source": [
    "y_pred=model.predict(x_test)"
   ]
  },
  {
   "cell_type": "markdown",
   "metadata": {},
   "source": [
    "#### To compare the predicted values y_pred with the actual output values y_test we will execute this script:"
   ]
  },
  {
   "cell_type": "code",
   "execution_count": 39,
   "metadata": {},
   "outputs": [
    {
     "data": {
      "text/html": [
       "<div>\n",
       "<style scoped>\n",
       "    .dataframe tbody tr th:only-of-type {\n",
       "        vertical-align: middle;\n",
       "    }\n",
       "\n",
       "    .dataframe tbody tr th {\n",
       "        vertical-align: top;\n",
       "    }\n",
       "\n",
       "    .dataframe thead th {\n",
       "        text-align: right;\n",
       "    }\n",
       "</style>\n",
       "<table border=\"1\" class=\"dataframe\">\n",
       "  <thead>\n",
       "    <tr style=\"text-align: right;\">\n",
       "      <th></th>\n",
       "      <th>y_test</th>\n",
       "      <th>y_pred</th>\n",
       "      <th>difference</th>\n",
       "    </tr>\n",
       "  </thead>\n",
       "  <tbody>\n",
       "    <tr>\n",
       "      <th>0</th>\n",
       "      <td>11880.345449</td>\n",
       "      <td>10500.830926</td>\n",
       "      <td>1379.514523</td>\n",
       "    </tr>\n",
       "    <tr>\n",
       "      <th>1</th>\n",
       "      <td>13544.718360</td>\n",
       "      <td>13378.567769</td>\n",
       "      <td>166.150591</td>\n",
       "    </tr>\n",
       "    <tr>\n",
       "      <th>2</th>\n",
       "      <td>15872.732578</td>\n",
       "      <td>16386.527527</td>\n",
       "      <td>-513.794949</td>\n",
       "    </tr>\n",
       "    <tr>\n",
       "      <th>3</th>\n",
       "      <td>13639.776538</td>\n",
       "      <td>13642.614058</td>\n",
       "      <td>-2.837521</td>\n",
       "    </tr>\n",
       "    <tr>\n",
       "      <th>4</th>\n",
       "      <td>13325.314189</td>\n",
       "      <td>13216.716241</td>\n",
       "      <td>108.597948</td>\n",
       "    </tr>\n",
       "    <tr>\n",
       "      <th>...</th>\n",
       "      <td>...</td>\n",
       "      <td>...</td>\n",
       "      <td>...</td>\n",
       "    </tr>\n",
       "    <tr>\n",
       "      <th>121</th>\n",
       "      <td>13708.398660</td>\n",
       "      <td>13463.923908</td>\n",
       "      <td>244.474752</td>\n",
       "    </tr>\n",
       "    <tr>\n",
       "      <th>122</th>\n",
       "      <td>10856.664474</td>\n",
       "      <td>10209.675851</td>\n",
       "      <td>646.988623</td>\n",
       "    </tr>\n",
       "    <tr>\n",
       "      <th>123</th>\n",
       "      <td>15157.826232</td>\n",
       "      <td>14935.354063</td>\n",
       "      <td>222.472168</td>\n",
       "    </tr>\n",
       "    <tr>\n",
       "      <th>124</th>\n",
       "      <td>10190.723381</td>\n",
       "      <td>11187.219673</td>\n",
       "      <td>-996.496292</td>\n",
       "    </tr>\n",
       "    <tr>\n",
       "      <th>125</th>\n",
       "      <td>13679.571030</td>\n",
       "      <td>13497.197589</td>\n",
       "      <td>182.373441</td>\n",
       "    </tr>\n",
       "  </tbody>\n",
       "</table>\n",
       "<p>126 rows × 3 columns</p>\n",
       "</div>"
      ],
      "text/plain": [
       "           y_test        y_pred   difference\n",
       "0    11880.345449  10500.830926  1379.514523\n",
       "1    13544.718360  13378.567769   166.150591\n",
       "2    15872.732578  16386.527527  -513.794949\n",
       "3    13639.776538  13642.614058    -2.837521\n",
       "4    13325.314189  13216.716241   108.597948\n",
       "..            ...           ...          ...\n",
       "121  13708.398660  13463.923908   244.474752\n",
       "122  10856.664474  10209.675851   646.988623\n",
       "123  15157.826232  14935.354063   222.472168\n",
       "124  10190.723381  11187.219673  -996.496292\n",
       "125  13679.571030  13497.197589   182.373441\n",
       "\n",
       "[126 rows x 3 columns]"
      ]
     },
     "execution_count": 39,
     "metadata": {},
     "output_type": "execute_result"
    }
   ],
   "source": [
    "dfYt = pd.DataFrame(y_test, columns=['y_test'])\n",
    "dfYp = pd.DataFrame(y_pred, columns=['y_pred'])\n",
    "dfYt = dfYt.join(dfYp)\n",
    "dfYt['difference']=dfYt['y_test']-dfYt['y_pred']\n",
    "dfYt = dfYt[['y_test', 'y_pred', 'difference']]\n",
    "dfYt"
   ]
  },
  {
   "cell_type": "code",
   "execution_count": 40,
   "metadata": {},
   "outputs": [
    {
     "name": "stdout",
     "output_type": "stream",
     "text": [
      "Mean Absolute Error: 415.8824138563388\n",
      "Mean Squared Error: 379709.4678462452\n",
      "Root Mean Squared Error: 616.2057025427833\n"
     ]
    }
   ],
   "source": [
    "print('Mean Absolute Error:', metrics.mean_absolute_error(y_test, y_pred))\n",
    "print('Mean Squared Error:', metrics.mean_squared_error(y_test, y_pred))\n",
    "print('Root Mean Squared Error:', np.sqrt(metrics.mean_squared_error(y_test, y_pred)))"
   ]
  }
 ],
 "metadata": {
  "kernelspec": {
   "display_name": "Python 3",
   "language": "python",
   "name": "python3"
  },
  "language_info": {
   "codemirror_mode": {
    "name": "ipython",
    "version": 3
   },
   "file_extension": ".py",
   "mimetype": "text/x-python",
   "name": "python",
   "nbconvert_exporter": "python",
   "pygments_lexer": "ipython3",
   "version": "3.7.7"
  }
 },
 "nbformat": 4,
 "nbformat_minor": 4
}
